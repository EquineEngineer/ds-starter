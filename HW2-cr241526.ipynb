{
 "cells": [
  {
   "cell_type": "markdown",
   "metadata": {},
   "source": [
    "# MCR DAS WS2024 Homework 2"
   ]
  },
  {
   "cell_type": "markdown",
   "metadata": {},
   "source": [
    "### Specifics\n",
    "\n",
    "This notebook was produced on a machine which runs the latest stable version of Ubuntu 22.04 running python 3.12.1.\n",
    "\n",
    "As such, in order to provide the best possible experience, it is recommended to run the notebook in a virtual environment, rather than directly on the machine.\n",
    "\n",
    "### Disclaimer\n",
    "\n",
    "I have my own pipelines for datascience-related tasks, so I adapted them to this assignment.\n",
    "As a direct consequence, I have not used pandas or numpy in this notebook.\n",
    "\n",
    "Instead, I have used [polars](https://pola.rs/), which is a fast, in-memory dataframe library that is more suitable for my needs."
   ]
  },
  {
   "cell_type": "markdown",
   "metadata": {},
   "source": [
    "## Project Scope\n",
    "\n",
    "The aim is to predict whether certain activities can be attributed to botnets."
   ]
  },
  {
   "cell_type": "markdown",
   "metadata": {},
   "source": [
    "#### A) Load the data from “botnet-network-logs-v2.csv” in a DataFrame."
   ]
  },
  {
   "cell_type": "code",
   "execution_count": 340,
   "metadata": {},
   "outputs": [],
   "source": [
    "from typing import Literal as L\n",
    "from itertools import product\n",
    "from polars import read_csv\n",
    "import polars as pl\n",
    "import numpy as np\n",
    "import numpy.typing\n",
    "import graphviz\n",
    "from sklearn.model_selection import train_test_split, cross_val_score, RepeatedKFold\n",
    "from sklearn.linear_model import LogisticRegression\n",
    "from sklearn.tree import DecisionTreeClassifier, export_graphviz\n",
    "from sklearn.ensemble import RandomForestClassifier\n",
    "from sklearn.base import BaseEstimator\n",
    "from sklearn.metrics import (\n",
    "    accuracy_score,\n",
    "    confusion_matrix,\n",
    "    recall_score,\n",
    "    roc_curve,\n",
    ")"
   ]
  },
  {
   "cell_type": "code",
   "execution_count": 341,
   "metadata": {},
   "outputs": [],
   "source": [
    "df = read_csv(\"botnet-network-logs-v3.csv\", separator=\";\", decimal_comma=True)"
   ]
  },
  {
   "cell_type": "markdown",
   "metadata": {},
   "source": [
    "Like in the last assignment, this csv file uses `;` as a separator and `,` as a decimal separator."
   ]
  },
  {
   "cell_type": "markdown",
   "metadata": {},
   "source": [
    "#### B) What scale of measurements do the variables have?"
   ]
  },
  {
   "cell_type": "code",
   "execution_count": 342,
   "metadata": {},
   "outputs": [
    {
     "data": {
      "text/html": [
       "<div><style>\n",
       ".dataframe > thead > tr,\n",
       ".dataframe > tbody > tr {\n",
       "  text-align: right;\n",
       "  white-space: pre-wrap;\n",
       "}\n",
       "</style>\n",
       "<small>shape: (9, 5)</small><table border=\"1\" class=\"dataframe\"><thead><tr><th>statistic</th><th>1-REMOTE_PORT</th><th>2-LATENCY</th><th>3-THROUGHPUT</th><th>4-ANOMALY</th></tr><tr><td>str</td><td>f64</td><td>f64</td><td>f64</td><td>f64</td></tr></thead><tbody><tr><td>&quot;count&quot;</td><td>416.0</td><td>417.0</td><td>416.0</td><td>417.0</td></tr><tr><td>&quot;null_count&quot;</td><td>1.0</td><td>0.0</td><td>1.0</td><td>0.0</td></tr><tr><td>&quot;mean&quot;</td><td>62.987981</td><td>14.429608</td><td>15.426159</td><td>0.057554</td></tr><tr><td>&quot;std&quot;</td><td>105.042332</td><td>1.666814</td><td>1.351086</td><td>0.233178</td></tr><tr><td>&quot;min&quot;</td><td>20.0</td><td>4.752613</td><td>4.126232</td><td>0.0</td></tr><tr><td>&quot;25%&quot;</td><td>21.0</td><td>13.399047</td><td>15.23005</td><td>0.0</td></tr><tr><td>&quot;50%&quot;</td><td>21.0</td><td>15.007843</td><td>15.592226</td><td>0.0</td></tr><tr><td>&quot;75%&quot;</td><td>80.0</td><td>15.500666</td><td>15.891691</td><td>0.0</td></tr><tr><td>&quot;max&quot;</td><td>443.0</td><td>23.339868</td><td>24.350407</td><td>1.0</td></tr></tbody></table></div>"
      ],
      "text/plain": [
       "shape: (9, 5)\n",
       "┌────────────┬───────────────┬───────────┬──────────────┬───────────┐\n",
       "│ statistic  ┆ 1-REMOTE_PORT ┆ 2-LATENCY ┆ 3-THROUGHPUT ┆ 4-ANOMALY │\n",
       "│ ---        ┆ ---           ┆ ---       ┆ ---          ┆ ---       │\n",
       "│ str        ┆ f64           ┆ f64       ┆ f64          ┆ f64       │\n",
       "╞════════════╪═══════════════╪═══════════╪══════════════╪═══════════╡\n",
       "│ count      ┆ 416.0         ┆ 417.0     ┆ 416.0        ┆ 417.0     │\n",
       "│ null_count ┆ 1.0           ┆ 0.0       ┆ 1.0          ┆ 0.0       │\n",
       "│ mean       ┆ 62.987981     ┆ 14.429608 ┆ 15.426159    ┆ 0.057554  │\n",
       "│ std        ┆ 105.042332    ┆ 1.666814  ┆ 1.351086     ┆ 0.233178  │\n",
       "│ min        ┆ 20.0          ┆ 4.752613  ┆ 4.126232     ┆ 0.0       │\n",
       "│ 25%        ┆ 21.0          ┆ 13.399047 ┆ 15.23005     ┆ 0.0       │\n",
       "│ 50%        ┆ 21.0          ┆ 15.007843 ┆ 15.592226    ┆ 0.0       │\n",
       "│ 75%        ┆ 80.0          ┆ 15.500666 ┆ 15.891691    ┆ 0.0       │\n",
       "│ max        ┆ 443.0         ┆ 23.339868 ┆ 24.350407    ┆ 1.0       │\n",
       "└────────────┴───────────────┴───────────┴──────────────┴───────────┘"
      ]
     },
     "execution_count": 342,
     "metadata": {},
     "output_type": "execute_result"
    }
   ],
   "source": [
    "df.describe()"
   ]
  },
  {
   "cell_type": "markdown",
   "metadata": {},
   "source": [
    "##### Observations:\n",
    "\n",
    "- Possible port numbers range from port 20 to port 443.\n",
    "- Latency ranges from ~14.43 ms to 23.34 ms.\n",
    "- Throughput ranges from 15.42 MB/s to 24.35 MB/s.\n",
    "- Anomalies are either 1 or 0. (1 = Anomaly, 0 = Normal)"
   ]
  },
  {
   "cell_type": "markdown",
   "metadata": {},
   "source": [
    "#### C) Analyze and manipulate the data, to get an understanding of the data and to prepare the data for modeling."
   ]
  },
  {
   "cell_type": "markdown",
   "metadata": {},
   "source": [
    "I proceeded to conduct a number of data transformation actions to the data to prepare it for modeling and training."
   ]
  },
  {
   "cell_type": "code",
   "execution_count": 343,
   "metadata": {},
   "outputs": [
    {
     "data": {
      "text/html": [
       "<div><style>\n",
       ".dataframe > thead > tr,\n",
       ".dataframe > tbody > tr {\n",
       "  text-align: right;\n",
       "  white-space: pre-wrap;\n",
       "}\n",
       "</style>\n",
       "<small>shape: (9, 5)</small><table border=\"1\" class=\"dataframe\"><thead><tr><th>statistic</th><th>remote_port</th><th>latency</th><th>throughput</th><th>anomaly</th></tr><tr><td>str</td><td>f64</td><td>f64</td><td>f64</td><td>f64</td></tr></thead><tbody><tr><td>&quot;count&quot;</td><td>415.0</td><td>415.0</td><td>415.0</td><td>415.0</td></tr><tr><td>&quot;null_count&quot;</td><td>0.0</td><td>0.0</td><td>0.0</td><td>0.0</td></tr><tr><td>&quot;mean&quot;</td><td>63.089157</td><td>14.428413</td><td>15.424733</td><td>0.057831</td></tr><tr><td>&quot;std&quot;</td><td>105.148821</td><td>1.668918</td><td>1.352403</td><td>0.233706</td></tr><tr><td>&quot;min&quot;</td><td>20.0</td><td>4.752613</td><td>4.126232</td><td>0.0</td></tr><tr><td>&quot;25%&quot;</td><td>21.0</td><td>13.399047</td><td>15.23005</td><td>0.0</td></tr><tr><td>&quot;50%&quot;</td><td>21.0</td><td>15.007843</td><td>15.590008</td><td>0.0</td></tr><tr><td>&quot;75%&quot;</td><td>80.0</td><td>15.500666</td><td>15.891691</td><td>0.0</td></tr><tr><td>&quot;max&quot;</td><td>443.0</td><td>23.339868</td><td>24.350407</td><td>1.0</td></tr></tbody></table></div>"
      ],
      "text/plain": [
       "shape: (9, 5)\n",
       "┌────────────┬─────────────┬───────────┬────────────┬──────────┐\n",
       "│ statistic  ┆ remote_port ┆ latency   ┆ throughput ┆ anomaly  │\n",
       "│ ---        ┆ ---         ┆ ---       ┆ ---        ┆ ---      │\n",
       "│ str        ┆ f64         ┆ f64       ┆ f64        ┆ f64      │\n",
       "╞════════════╪═════════════╪═══════════╪════════════╪══════════╡\n",
       "│ count      ┆ 415.0       ┆ 415.0     ┆ 415.0      ┆ 415.0    │\n",
       "│ null_count ┆ 0.0         ┆ 0.0       ┆ 0.0        ┆ 0.0      │\n",
       "│ mean       ┆ 63.089157   ┆ 14.428413 ┆ 15.424733  ┆ 0.057831 │\n",
       "│ std        ┆ 105.148821  ┆ 1.668918  ┆ 1.352403   ┆ 0.233706 │\n",
       "│ min        ┆ 20.0        ┆ 4.752613  ┆ 4.126232   ┆ 0.0      │\n",
       "│ 25%        ┆ 21.0        ┆ 13.399047 ┆ 15.23005   ┆ 0.0      │\n",
       "│ 50%        ┆ 21.0        ┆ 15.007843 ┆ 15.590008  ┆ 0.0      │\n",
       "│ 75%        ┆ 80.0        ┆ 15.500666 ┆ 15.891691  ┆ 0.0      │\n",
       "│ max        ┆ 443.0       ┆ 23.339868 ┆ 24.350407  ┆ 1.0      │\n",
       "└────────────┴─────────────┴───────────┴────────────┴──────────┘"
      ]
     },
     "execution_count": 343,
     "metadata": {},
     "output_type": "execute_result"
    }
   ],
   "source": [
    "# Reformat naming to make it more readable\n",
    "\n",
    "df = df.rename(lambda name: name.split(\"-\")[1].lower())\n",
    "\n",
    "# Casting to accurate datatypes\n",
    "\n",
    "df = df.with_columns(\n",
    "    pl.col(\"remote_port\").cast(pl.UInt16),  # Ports are 0-65535\n",
    ")\n",
    "\n",
    "# Remove nulls and N/As\n",
    "\n",
    "df = df.drop_nulls()\n",
    "\n",
    "df.describe()"
   ]
  },
  {
   "cell_type": "markdown",
   "metadata": {},
   "source": [
    "#### D) Split the data in a training and in a test set (75%-25%-Split)."
   ]
  },
  {
   "cell_type": "code",
   "execution_count": 344,
   "metadata": {},
   "outputs": [
    {
     "data": {
      "text/plain": [
       "((311, 4), (104, 4), (311,), (104,))"
      ]
     },
     "execution_count": 344,
     "metadata": {},
     "output_type": "execute_result"
    }
   ],
   "source": [
    "train_x, test_x, train_y, test_y = train_test_split(\n",
    "    df.select(pl.selectors.numeric()),\n",
    "    df.get_column(\"anomaly\"),\n",
    "    test_size=0.25,\n",
    "    stratify=df.get_column(\"anomaly\"),\n",
    "    random_state=65981,  # I tried a lot of seeds before finding one that produces different enough results\n",
    ")\n",
    "\n",
    "train_x.shape, test_x.shape, train_y.shape, test_y.shape"
   ]
  },
  {
   "cell_type": "markdown",
   "metadata": {},
   "source": [
    "##### Notes on stratification (according to the documentation):\n",
    "\n",
    "Stratification is used to ensure that the proportion of the target class is preserved in the train and test sets.\n",
    "The test set is then used to evaluate the performance of the model on unseen data.\n",
    "\n",
    "For instance, in a binary classification problem (like what we have in this assignment):\n",
    "\n",
    "If y (in our case: the `anomaly` column) is the target variable with the following distribution:\n",
    "\n",
    "0: 25% of the data\n",
    "1: 75% of the data\n",
    "\n",
    "Using stratify=y will ensure that the random split preserves this distribution, resulting in:\n",
    "\n",
    "25% of the samples being 0's\n",
    "75% of the samples being 1's"
   ]
  },
  {
   "cell_type": "markdown",
   "metadata": {},
   "source": [
    "##### Checking Stratify"
   ]
  },
  {
   "cell_type": "code",
   "execution_count": 345,
   "metadata": {},
   "outputs": [
    {
     "data": {
      "text/plain": [
       "('Proportion of ones in train: 0.0579', 'Proportion of ones in test: 0.0577')"
      ]
     },
     "execution_count": 345,
     "metadata": {},
     "output_type": "execute_result"
    }
   ],
   "source": [
    "ones_in_train = (train_y == 1).sum()\n",
    "zeros_in_train = (train_y == 0).sum()\n",
    "\n",
    "ones_in_test = (test_y == 1).sum()\n",
    "zeros_in_test = (test_y == 0).sum()\n",
    "\n",
    "proportion_in_train = ones_in_train / (ones_in_train + zeros_in_train)\n",
    "proportion_in_test = ones_in_test / (ones_in_test + zeros_in_test)\n",
    "\n",
    "(\n",
    "    f\"Proportion of ones in train: {proportion_in_train:.4f}\",\n",
    "    f\"Proportion of ones in test: {proportion_in_test:.4f}\",\n",
    ")"
   ]
  },
  {
   "cell_type": "markdown",
   "metadata": {},
   "source": [
    "Yes, stratify works as expected, the proportion of ones in train and test are (almost) equal."
   ]
  },
  {
   "cell_type": "markdown",
   "metadata": {},
   "source": [
    "#### E) Use Logistic Regression, print the confusion matrices and the accuracies on test and training."
   ]
  },
  {
   "cell_type": "markdown",
   "metadata": {},
   "source": [
    "##### Creating Logistic Regression Model"
   ]
  },
  {
   "cell_type": "code",
   "execution_count": 346,
   "metadata": {},
   "outputs": [
    {
     "data": {
      "text/plain": [
       "0.9615384615384616"
      ]
     },
     "execution_count": 346,
     "metadata": {},
     "output_type": "execute_result"
    }
   ],
   "source": [
    "log_reg = LogisticRegression().fit(train_x, train_y)\n",
    "\n",
    "log_reg.score(test_x, test_y)"
   ]
  },
  {
   "cell_type": "markdown",
   "metadata": {},
   "source": [
    "##### Logistic Regression Confusion Matrix"
   ]
  },
  {
   "cell_type": "code",
   "execution_count": 347,
   "metadata": {},
   "outputs": [
    {
     "data": {
      "text/plain": [
       "array([[98,  0],\n",
       "       [ 4,  2]])"
      ]
     },
     "execution_count": 347,
     "metadata": {},
     "output_type": "execute_result"
    }
   ],
   "source": [
    "confusion_matrix(test_y, log_reg.predict(test_x))"
   ]
  },
  {
   "cell_type": "markdown",
   "metadata": {},
   "source": [
    "##### Training Accuracy Score"
   ]
  },
  {
   "cell_type": "code",
   "execution_count": 348,
   "metadata": {},
   "outputs": [
    {
     "data": {
      "text/plain": [
       "0.9935691318327974"
      ]
     },
     "execution_count": 348,
     "metadata": {},
     "output_type": "execute_result"
    }
   ],
   "source": [
    "training_accuracy = accuracy_score(train_y, log_reg.predict(train_x))\n",
    "\n",
    "training_accuracy"
   ]
  },
  {
   "cell_type": "markdown",
   "metadata": {},
   "source": [
    "##### Testing Accuracy Score"
   ]
  },
  {
   "cell_type": "code",
   "execution_count": 349,
   "metadata": {},
   "outputs": [
    {
     "data": {
      "text/plain": [
       "0.9615384615384616"
      ]
     },
     "execution_count": 349,
     "metadata": {},
     "output_type": "execute_result"
    }
   ],
   "source": [
    "testing_accuracy = accuracy_score(test_y, log_reg.predict(test_x))\n",
    "\n",
    "testing_accuracy"
   ]
  },
  {
   "cell_type": "markdown",
   "metadata": {},
   "source": [
    "#### F) Choose a threshold with a minimum True Positive Rate (TPR) of 60% with logistic regression on train data. What TPR do you get on test with this threshold and logistic regression?"
   ]
  },
  {
   "cell_type": "code",
   "execution_count": 350,
   "metadata": {},
   "outputs": [],
   "source": [
    "def find_threshold(\n",
    "    train_x: np.ndarray,\n",
    "    train_y: numpy.typing.ArrayLike,\n",
    "    test_x: np.ndarray,\n",
    "    test_y: numpy.typing.ArrayLike,\n",
    "    log_reg: LogisticRegression,\n",
    "    target_tpr: float,\n",
    "):\n",
    "    # Find predicted probabilities for train data\n",
    "    train_probs = log_reg.predict_proba(train_x)[:, 1]\n",
    "\n",
    "    # Calculate ROC curve and thresholds\n",
    "    fpr, tpr, thresholds = roc_curve(train_y, train_probs)\n",
    "\n",
    "    target_tpr = target_tpr  # Minimum TPR\n",
    "    threshold = thresholds[np.argmax(tpr >= target_tpr)]  # Filter for threshold\n",
    "\n",
    "    # Apply threshold to train data and compute TPR\n",
    "    train_preds = (train_probs >= threshold).astype(int)\n",
    "    train_tpr = recall_score(train_y, train_preds)\n",
    "\n",
    "    print(f\"Train TPR: {train_tpr:.4f}\")\n",
    "    print(f\"Threshold: {threshold:.4f}\")\n",
    "\n",
    "    # Compute TPR for test data\n",
    "    test_probs = log_reg.predict_proba(test_x)[:, 1]\n",
    "    test_preds = (test_probs >= threshold).astype(int)\n",
    "    test_tpr = recall_score(test_y, test_preds)\n",
    "\n",
    "    print(f\"Test TPR: {test_tpr:.4f}\")\n",
    "\n",
    "    return test_probs, test_preds, test_tpr"
   ]
  },
  {
   "cell_type": "code",
   "execution_count": 351,
   "metadata": {},
   "outputs": [
    {
     "name": "stdout",
     "output_type": "stream",
     "text": [
      "Train TPR: 0.6667\n",
      "Threshold: 0.6880\n",
      "Test TPR: 0.1667\n"
     ]
    }
   ],
   "source": [
    "test_probs, test_preds, test_tpr = find_threshold(\n",
    "    train_x, train_y, test_x, test_y, log_reg, target_tpr=0.60\n",
    ")"
   ]
  },
  {
   "cell_type": "markdown",
   "metadata": {},
   "source": [
    "Answer: I obtained a 0.1667 TPR on the test data."
   ]
  },
  {
   "cell_type": "markdown",
   "metadata": {},
   "source": [
    "#### G) Use Decision Tree Classifier, print confusion matrices and accuracies on test and training."
   ]
  },
  {
   "cell_type": "markdown",
   "metadata": {},
   "source": [
    "##### Creating Decision Tree Model"
   ]
  },
  {
   "cell_type": "code",
   "execution_count": 352,
   "metadata": {},
   "outputs": [
    {
     "data": {
      "text/plain": [
       "1.0"
      ]
     },
     "execution_count": 352,
     "metadata": {},
     "output_type": "execute_result"
    }
   ],
   "source": [
    "tree_classifier = DecisionTreeClassifier().fit(train_x, train_y)\n",
    "\n",
    "tree_classifier.score(test_x, test_y)"
   ]
  },
  {
   "cell_type": "markdown",
   "metadata": {},
   "source": [
    "##### Decision Tree Confusion Matrix"
   ]
  },
  {
   "cell_type": "code",
   "execution_count": 353,
   "metadata": {},
   "outputs": [
    {
     "data": {
      "text/plain": [
       "array([[98,  0],\n",
       "       [ 0,  6]])"
      ]
     },
     "execution_count": 353,
     "metadata": {},
     "output_type": "execute_result"
    }
   ],
   "source": [
    "confusion_matrix(test_y, tree_classifier.predict(test_x))"
   ]
  },
  {
   "cell_type": "markdown",
   "metadata": {},
   "source": [
    "##### Training Accuracy Score"
   ]
  },
  {
   "cell_type": "code",
   "execution_count": 354,
   "metadata": {},
   "outputs": [
    {
     "data": {
      "text/plain": [
       "1.0"
      ]
     },
     "execution_count": 354,
     "metadata": {},
     "output_type": "execute_result"
    }
   ],
   "source": [
    "tree_training_score = accuracy_score(train_y, tree_classifier.predict(train_x))\n",
    "\n",
    "tree_training_score"
   ]
  },
  {
   "cell_type": "markdown",
   "metadata": {},
   "source": [
    "##### Testing Accuracy Score"
   ]
  },
  {
   "cell_type": "code",
   "execution_count": 355,
   "metadata": {},
   "outputs": [
    {
     "data": {
      "text/plain": [
       "1.0"
      ]
     },
     "execution_count": 355,
     "metadata": {},
     "output_type": "execute_result"
    }
   ],
   "source": [
    "tree_testing_score = accuracy_score(test_y, tree_classifier.predict(test_x))\n",
    "\n",
    "tree_testing_score"
   ]
  },
  {
   "cell_type": "markdown",
   "metadata": {},
   "source": [
    "#### H) Use Random Forest Classifier, print confusion matrices and accuracies on test and training."
   ]
  },
  {
   "cell_type": "markdown",
   "metadata": {},
   "source": [
    "##### Creating Random Forest Model"
   ]
  },
  {
   "cell_type": "code",
   "execution_count": 356,
   "metadata": {},
   "outputs": [
    {
     "data": {
      "text/plain": [
       "1.0"
      ]
     },
     "execution_count": 356,
     "metadata": {},
     "output_type": "execute_result"
    }
   ],
   "source": [
    "random_forest_classifier = RandomForestClassifier().fit(train_x, train_y)\n",
    "\n",
    "random_forest_classifier.score(test_x, test_y)"
   ]
  },
  {
   "cell_type": "markdown",
   "metadata": {},
   "source": [
    "##### Random Forest Confusion Matrix"
   ]
  },
  {
   "cell_type": "code",
   "execution_count": 357,
   "metadata": {},
   "outputs": [
    {
     "data": {
      "text/plain": [
       "array([[98,  0],\n",
       "       [ 0,  6]])"
      ]
     },
     "execution_count": 357,
     "metadata": {},
     "output_type": "execute_result"
    }
   ],
   "source": [
    "confusion_matrix(test_y, random_forest_classifier.predict(test_x))"
   ]
  },
  {
   "cell_type": "markdown",
   "metadata": {},
   "source": [
    "##### Training Accuracy Score"
   ]
  },
  {
   "cell_type": "code",
   "execution_count": 358,
   "metadata": {},
   "outputs": [
    {
     "data": {
      "text/plain": [
       "1.0"
      ]
     },
     "execution_count": 358,
     "metadata": {},
     "output_type": "execute_result"
    }
   ],
   "source": [
    "random_forest_training_score = accuracy_score(\n",
    "    train_y, random_forest_classifier.predict(train_x)\n",
    ")\n",
    "\n",
    "random_forest_training_score"
   ]
  },
  {
   "cell_type": "markdown",
   "metadata": {},
   "source": [
    "##### Testing Accuracy Score"
   ]
  },
  {
   "cell_type": "code",
   "execution_count": 359,
   "metadata": {},
   "outputs": [
    {
     "data": {
      "text/plain": [
       "1.0"
      ]
     },
     "execution_count": 359,
     "metadata": {},
     "output_type": "execute_result"
    }
   ],
   "source": [
    "random_forest_test_score = accuracy_score(\n",
    "    test_y, random_forest_classifier.predict(test_x)\n",
    ")\n",
    "\n",
    "random_forest_test_score"
   ]
  },
  {
   "cell_type": "markdown",
   "metadata": {},
   "source": [
    "#### I) From the results from (e) to (h) – which classifier would you prefer?"
   ]
  },
  {
   "cell_type": "markdown",
   "metadata": {},
   "source": [
    "Answer: Currently, Random Forest and Decision Tree are performing the same (1.0 performance on both testing and training data partitions), so either one would be appropriate."
   ]
  },
  {
   "cell_type": "markdown",
   "metadata": {},
   "source": [
    "#### J) Use cross validation with 4 splits and 5 repeats, with the score “accuracy”, and the classifiers Logistic Regression, Decision Tree and Random Forest.<br>From these results – which classifier would you prefer and why?"
   ]
  },
  {
   "cell_type": "code",
   "execution_count": 360,
   "metadata": {},
   "outputs": [],
   "source": [
    "n_splits = 4\n",
    "n_repeats = 5\n",
    "\n",
    "cv = RepeatedKFold(n_splits=n_splits, n_repeats=n_repeats, random_state=65981)"
   ]
  },
  {
   "cell_type": "code",
   "execution_count": 361,
   "metadata": {},
   "outputs": [],
   "source": [
    "def evaluate_classifier(\n",
    "    classifier: BaseEstimator,\n",
    "    x: np.ndarray,\n",
    "    y: np.ndarray,\n",
    "    cv: RepeatedKFold,\n",
    "    # I included some more metric, more below\n",
    "    metric: L[\n",
    "        \"accuracy\",\n",
    "        \"balanced_accuracy\",\n",
    "        \"f1\",\n",
    "        \"neg_log_loss\",\n",
    "        \"precision\",\n",
    "        \"jaccard\",\n",
    "        \"roc_auc\",\n",
    "        \"d2_log_loss_score\",\n",
    "    ] = \"accuracy\",\n",
    ") -> np.ndarray:\n",
    "    scores = cross_val_score(classifier, x, y, cv=cv, scoring=metric)\n",
    "\n",
    "    print(f\"{metric.capitalize()} {type(classifier).__name__}:\\n {scores.round(3)}\\n\")\n",
    "    print(\n",
    "        f\"{\"Min/Mean/Max: \"}{np.min(scores):.6f} {np.mean(scores):.6f} {np.max(scores):.6f}\"\n",
    "    )\n",
    "\n",
    "    return scores"
   ]
  },
  {
   "cell_type": "markdown",
   "metadata": {},
   "source": [
    "##### About metrics\n",
    "\n",
    "At first, I conducted the experiment with just the `accuracy` metric.<br>\n",
    "However, there are many metrics that can be used to evaluate the performance of a classifier, and I know that the f1-score and the jaccard index are also very useful (and oftentimes more indicative of the real efficacy of a classifier).\n",
    "\n",
    "For this reason, in addition to evaluate the `accuracy` metric, I also evaluated the `f1`, `jaccard` and `roc_auc` metrics, to see if anything would be different (given the perfect matrices on top I knew this wouldn't make a difference, however maybe a different random seed could make a difference)."
   ]
  },
  {
   "cell_type": "code",
   "execution_count": 362,
   "metadata": {},
   "outputs": [
    {
     "name": "stdout",
     "output_type": "stream",
     "text": [
      "Accuracy LogisticRegression:\n",
      " [1.    1.    0.949 0.987 1.    0.923 0.987 1.    1.    1.    0.987 0.922\n",
      " 1.    0.987 1.    0.987 0.974 0.987 1.    0.987]\n",
      "\n",
      "Min/Mean/Max: 0.922078 0.983899 1.000000\n",
      "Accuracy DecisionTreeClassifier:\n",
      " [1. 1. 1. 1. 1. 1. 1. 1. 1. 1. 1. 1. 1. 1. 1. 1. 1. 1. 1. 1.]\n",
      "\n",
      "Min/Mean/Max: 1.000000 1.000000 1.000000\n"
     ]
    },
    {
     "name": "stdout",
     "output_type": "stream",
     "text": [
      "Accuracy RandomForestClassifier:\n",
      " [1. 1. 1. 1. 1. 1. 1. 1. 1. 1. 1. 1. 1. 1. 1. 1. 1. 1. 1. 1.]\n",
      "\n",
      "Min/Mean/Max: 1.000000 1.000000 1.000000\n",
      "Roc_auc LogisticRegression:\n",
      " [1.    1.    0.887 1.    1.    1.    0.973 1.    1.    1.    1.    0.999\n",
      " 1.    1.    1.    1.    1.    1.    1.    1.   ]\n",
      "\n",
      "Min/Mean/Max: 0.887324 0.992958 1.000000\n",
      "Roc_auc DecisionTreeClassifier:\n",
      " [1. 1. 1. 1. 1. 1. 1. 1. 1. 1. 1. 1. 1. 1. 1. 1. 1. 1. 1. 1.]\n",
      "\n",
      "Min/Mean/Max: 1.000000 1.000000 1.000000\n",
      "Roc_auc RandomForestClassifier:\n",
      " [1. 1. 1. 1. 1. 1. 1. 1. 1. 1. 1. 1. 1. 1. 1. 1. 1. 1. 1. 1.]\n",
      "\n",
      "Min/Mean/Max: 1.000000 1.000000 1.000000\n",
      "Jaccard LogisticRegression:\n",
      " [1.    1.    0.429 0.5   1.    0.4   0.667 1.    1.    1.    0.667 0.4\n",
      " 1.    0.75  1.    0.5   0.5   0.75  1.    0.8  ]\n",
      "\n",
      "Min/Mean/Max: 0.400000 0.768095 1.000000\n",
      "Jaccard DecisionTreeClassifier:\n",
      " [1. 1. 1. 1. 1. 1. 1. 1. 1. 1. 1. 1. 1. 1. 1. 1. 1. 1. 1. 1.]\n",
      "\n",
      "Min/Mean/Max: 1.000000 1.000000 1.000000\n",
      "Jaccard RandomForestClassifier:\n",
      " [1. 1. 1. 1. 1. 1. 1. 1. 1. 1. 1. 1. 1. 1. 1. 1. 1. 1. 1. 1.]\n",
      "\n",
      "Min/Mean/Max: 1.000000 1.000000 1.000000\n",
      "F1 LogisticRegression:\n",
      " [1.    1.    0.6   0.667 1.    0.571 0.8   1.    1.    1.    0.8   0.571\n",
      " 1.    0.857 1.    0.667 0.667 0.857 1.    0.889]\n",
      "\n",
      "Min/Mean/Max: 0.571429 0.847302 1.000000\n",
      "F1 DecisionTreeClassifier:\n",
      " [1. 1. 1. 1. 1. 1. 1. 1. 1. 1. 1. 1. 1. 1. 1. 1. 1. 1. 1. 1.]\n",
      "\n",
      "Min/Mean/Max: 1.000000 1.000000 1.000000\n",
      "F1 RandomForestClassifier:\n",
      " [1. 1. 1. 1. 1. 1. 1. 1. 1. 1. 1. 1. 1. 1. 1. 1. 1. 1. 1. 1.]\n",
      "\n",
      "Min/Mean/Max: 1.000000 1.000000 1.000000\n"
     ]
    }
   ],
   "source": [
    "models = list[BaseEstimator](\n",
    "    (\n",
    "        LogisticRegression(),\n",
    "        DecisionTreeClassifier(),\n",
    "        RandomForestClassifier(),\n",
    "    )\n",
    ")\n",
    "\n",
    "for metric, model in product((\"accuracy\", \"roc_auc\", \"jaccard\", \"f1\"), models):\n",
    "    evaluate_classifier(model, train_x, train_y, cv, metric=metric)"
   ]
  },
  {
   "cell_type": "markdown",
   "metadata": {},
   "source": [
    "##### From these results – which classifier would you prefer and why?\n",
    "\n",
    "Answer: It was clear that both the random forest and the decision tree would perform equally, so between these two models I will go for the the decision tree, as it is more easily explainable and representable as a plot."
   ]
  },
  {
   "cell_type": "markdown",
   "metadata": {},
   "source": [
    "#### K) Create a fit of the preferred model (final model), that is to be deployed."
   ]
  },
  {
   "cell_type": "code",
   "execution_count": null,
   "metadata": {},
   "outputs": [
    {
     "data": {
      "text/plain": [
       "'iris_decision_tree.png'"
      ]
     },
     "execution_count": 363,
     "metadata": {},
     "output_type": "execute_result"
    }
   ],
   "source": [
    "definitive_tree = DecisionTreeClassifier().fit(train_x, train_y)\n",
    "\n",
    "display_tree = export_graphviz(\n",
    "    definitive_tree,\n",
    "    out_file=None,\n",
    "    feature_names=[\"remote_port\", \"latency\", \"throughput\", \"anomaly\"],\n",
    "    class_names=[\"anomaly\", \"not_anomaly\"],\n",
    "    filled=True,\n",
    "    rounded=True,\n",
    "    special_characters=True,\n",
    ")\n",
    "\n",
    "graph = graphviz.Source(display_tree)\n",
    "\n",
    "graph.render(\"decision_tree\", format=\"png\", cleanup=True)"
   ]
  },
  {
   "cell_type": "markdown",
   "metadata": {},
   "source": [
    "<img src=\"data:image/png;base64,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\">"
   ]
  }
 ],
 "metadata": {
  "kernelspec": {
   "display_name": ".venv",
   "language": "python",
   "name": "python3"
  },
  "language_info": {
   "codemirror_mode": {
    "name": "ipython",
    "version": 3
   },
   "file_extension": ".py",
   "mimetype": "text/x-python",
   "name": "python",
   "nbconvert_exporter": "python",
   "pygments_lexer": "ipython3",
   "version": "3.12.1"
  }
 },
 "nbformat": 4,
 "nbformat_minor": 2
}
