{
 "cells": [
  {
   "cell_type": "markdown",
   "metadata": {
    "id": "V5hsUhDQiRSo"
   },
   "source": [
    "# Classification-Notebook Version 0.8"
   ]
  },
  {
   "cell_type": "markdown",
   "metadata": {
    "id": "Jw0fuq7mrchh"
   },
   "source": [
    "<b>This notebook can be used to work on classification tasks.</b><br>\n",
    "<b>Bernward Asprion, 29.11.2024</b><br>\n",
    "<b>Version 0.8</b>"
   ]
  },
  {
   "cell_type": "markdown",
   "metadata": {
    "id": "j_xIxQOBinP0"
   },
   "source": [
    "# 1&nbsp;Table of contents"
   ]
  },
  {
   "cell_type": "markdown",
   "metadata": {
    "id": "oGpaUJyLiump"
   },
   "source": [
    "The contents of this notebook are divided into various categories which are given as follows:\n",
    "\n",
    "<ol>\n",
    "<li><b>Table of contents</b>\n",
    "<li><b>Import libraries</b>\n",
    "<li><b>Import data and check import</b><br>\n",
    "    3.1 Import Data<br>\n",
    "    3.2 Check Import<br>\n",
    "<li><b>Data Preparation for Analysis</b><br>\n",
    "    4.1 Remove unwanted columns<br>\n",
    "    4.2 Rename column names<br>\n",
    "    4.3 Check and handle Null values<br>\n",
    "    4.4 Check and change data types<br>\n",
    "    4.5 Remove special characters<br>\n",
    "    4.6 Replace values<br>\n",
    "    4.7 Replace rare values<br>\n",
    "<li><b>Data Understanding</b><br>\n",
    "    5.1 Univariate - statistical analysis<br>\n",
    "    5.2 Univariate - visualizations<br>\n",
    "    5.3 Bivariate - correlation matrix<br>\n",
    "    5.4 Bivariate - cross table<br>\n",
    "    5.5 Bivariate - visualizations<br>\n",
    "    5.6 Trivaraite - visualization<br>\n",
    "<li><b>Data Preparation</b><br>\n",
    "    6.1 Feature Engineering<br>\n",
    "    6.2 Scaling<br>\n",
    "    6.3 Delete data records<br>\n",
    "    6.4 Dummy Encoding<br>\n",
    "<li><b>Create X_train, X_test, y_train, y_test</b>\n",
    "<li><b>Define positive and negative class</b>\n",
    "<li><b>Logistic Regression</b><br>\n",
    "    9.1 Standard<br>\n",
    "    9.2 Thresholding<br>\n",
    "<li><b>Decision Tree</b><br>\n",
    "<li><b>Random Forest</b><br>\n",
    "<li><b>Cross validation</b><br>\n",
    "<li><b>Create final model</b><br>"
   ]
  },
  {
   "cell_type": "markdown",
   "metadata": {
    "id": "We2cNH3Z79fa"
   },
   "source": [
    "# 2&nbsp;Import libraries"
   ]
  },
  {
   "cell_type": "markdown",
   "metadata": {
    "id": "GksyZqtrs0oC"
   },
   "source": [
    "<b>Brief description of the used libraries</b><br>\n",
    "<ul>\n",
    "<li><b>numpy (numerical python):</b><br>\n",
    "supports <b>efficient numerical operations</b> on large quantities of data.\n",
    "<li><b>pandas (dervived from 'panel data'):</b><br>\n",
    "is a very popular library for working with data.<br>\n",
    "DataFrames are at the center of pandas.<br>\n",
    "It is based on numpy.\n",
    "<li><b>matplotlib:</b><br>\n",
    "is a library for creating static, animated, and interactive <b>visualizations</b>.\n",
    "<li><b>seaborn:</b><br>\n",
    "is a data <b>visualization</b> library based on matplotlib.<br>\n",
    "It provides a high-level interface for drawing attractive and informative statistical graphics.\n",
    "<li><b>sklearn (scikit-learn)</b><br>\n",
    "Built on NumPy, SciPy, and matplotlib<br>\n",
    "Simple and efficient tools for predictive data analysis\n",
    "<li><b>statsmodels</b><br>\n",
    "provides classes and functions for the estimation of many different statistical models,<br>\n",
    "as well as for conducting statistical tests, and statistical data exploration.\n",
    "</ul>"
   ]
  },
  {
   "cell_type": "code",
   "execution_count": null,
   "metadata": {
    "id": "xuu5Hdq6wFOz"
   },
   "outputs": [],
   "source": [
    "# import io\n",
    "import math\n",
    "import matplotlib.cm as cm\n",
    "import matplotlib.pyplot as plt  # for plotting and visualisations\n",
    "import numpy as np\n",
    "\n",
    "# import os\n",
    "import pandas as pd\n",
    "import seaborn as sns  # for plotting and visualisations - sometimes nicer than plt\n",
    "import sys\n",
    "\n",
    "from sklearn.ensemble import RandomForestClassifier\n",
    "from sklearn.metrics import accuracy_score, confusion_matrix\n",
    "import sklearn.metrics as metrics\n",
    "from sklearn.linear_model import LogisticRegression\n",
    "from sklearn.model_selection import cross_val_score\n",
    "from sklearn.model_selection import RepeatedKFold  # Repeated k-fold cross validation\n",
    "from sklearn.model_selection import (\n",
    "    train_test_split,\n",
    ")  # split a dataset in training and test\n",
    "\n",
    "\n",
    "# from sklearn.model_selection import GridSearchCV"
   ]
  },
  {
   "cell_type": "markdown",
   "metadata": {
    "id": "CFux_1PF8Fv_"
   },
   "source": [
    "# 3&nbsp;Import Data and check import"
   ]
  },
  {
   "cell_type": "markdown",
   "metadata": {
    "id": "dk2Q4FIcjAx3"
   },
   "source": [
    "## 3.1&nbsp;Import Data"
   ]
  },
  {
   "cell_type": "markdown",
   "metadata": {
    "id": "i8ZBo2MZjHJw"
   },
   "source": [
    "<b>(A) For Colab-Users and loading from your local drive:</b>"
   ]
  },
  {
   "cell_type": "markdown",
   "metadata": {
    "id": "e3hvtFewjHNi"
   },
   "source": [
    "The code will prompt you to select a file.<br>\n",
    "Click on “Choose Files” then select the file to be imported (e.g., 'housing-california.csv').<br>\n",
    "<b>Wait for the file to be 100% uploaded.</b><br>\n",
    "You should see the name of the file once Colab has uploaded it."
   ]
  },
  {
   "cell_type": "code",
   "execution_count": null,
   "metadata": {
    "id": "2Q0pLHwWjN7g"
   },
   "outputs": [],
   "source": [
    "\"\"\"\n",
    "import sys\n",
    "if \"google.colab\" in sys.modules:   # checks if google is used\n",
    "  from google.colab import files\n",
    "  uploaded = files.upload()\n",
    "\"\"\""
   ]
  },
  {
   "cell_type": "markdown",
   "metadata": {
    "id": "8Eb758DTjP6a"
   },
   "source": [
    "<b>After executing this code cell, it should be commented out.</b><br>\n",
    "This can be done with ''' at the beginning and at the end of that call.</b>\n",
    "Advantage: you can run the code again and again from the beginning."
   ]
  },
  {
   "cell_type": "markdown",
   "metadata": {
    "id": "6HgEq-tDKbMx"
   },
   "source": [
    "The following code imports the file (that is uploaded in google drive) into a DataFrame.<br>\n",
    "Make sure the filename in the code matches the name of the uploaded file - tip: copy the filename with extension (after 'to').<br>\n",
    "sep: stands for separator for the columns - adjust if necessary<br>\n",
    "decimals: decimal point - adjust if necessary"
   ]
  },
  {
   "cell_type": "code",
   "execution_count": null,
   "metadata": {
    "id": "2LZqLK6NjSvD"
   },
   "outputs": [],
   "source": [
    "if \"google.colab\" in sys.modules:\n",
    "    file = \"phishing-URL (1).csv\"  # change filename\n",
    "\n",
    "    import io\n",
    "\n",
    "    df = pd.read_csv(\n",
    "        io.BytesIO(uploaded[file]), sep=\",\", decimal=\".\"\n",
    "    )  # change values for sep and decimal\n",
    "    # Dataset is now stored in a Pandas Dataframe named df"
   ]
  },
  {
   "cell_type": "markdown",
   "metadata": {
    "id": "clqFjrxXjHUK"
   },
   "source": [
    "**(B) For Colab-Users and loading from Google Drive:**"
   ]
  },
  {
   "cell_type": "code",
   "execution_count": null,
   "metadata": {
    "id": "Q1uFfQL2jYIo"
   },
   "outputs": [],
   "source": [
    "\"\"\"\n",
    "from google.colab import drive\n",
    "drive.mount('/content/drive')\n",
    "\"\"\""
   ]
  },
  {
   "cell_type": "markdown",
   "metadata": {
    "id": "OIksy_kYjHZB"
   },
   "source": [
    "Click on the folder-symbol on the left side (onmouseover: \"files\" is shown).<br>\n",
    "Then you can see folders and files under \"content/drive\".<br>\n",
    "Go through the folders und look for the file you want to import.<br> Mark the file, and klick on the \"three points\". Click on \"copy path\".<br>\n",
    "Copy the copied path in the following code cell like in the comment."
   ]
  },
  {
   "cell_type": "code",
   "execution_count": null,
   "metadata": {
    "id": "PdLDfhT4j9hA"
   },
   "outputs": [],
   "source": [
    "\"\"\"\n",
    "df = pd.read_csv('/content/drive/MyDrive/DAS/Regression/Housing/housing-california.csv',sep=',', decimal= '.')\n",
    "\"\"\""
   ]
  },
  {
   "cell_type": "markdown",
   "metadata": {
    "id": "ce2ciRmDkAr5"
   },
   "source": [
    "**(C) For those, who do not use Colab:**"
   ]
  },
  {
   "cell_type": "markdown",
   "metadata": {
    "id": "yMvUIS8ZkDmJ"
   },
   "source": [
    "<b>In this case, you have to remove one \"#\" in the following code cell,<br>\n",
    "and adjust the path.</b>"
   ]
  },
  {
   "cell_type": "code",
   "execution_count": null,
   "metadata": {
    "id": "4qzhIctGjeb4"
   },
   "outputs": [],
   "source": [
    "\"\"\"\n",
    "#df = pd.read_csv(r'C:/data_folder/house-california.csv')   # absolute path\n",
    "#df = pd.read_csv(\"../data_folder/house-cailfornia.csv\")    # relative path\n",
    "\"\"\""
   ]
  },
  {
   "cell_type": "markdown",
   "metadata": {
    "id": "yF6Xl0hajkTg"
   },
   "source": [
    "## 3.2&nbsp;Check import</b>"
   ]
  },
  {
   "cell_type": "markdown",
   "metadata": {
    "id": "uPXdEikAkJ8Y"
   },
   "source": [
    "<b>pandas.DataFrame.info</b><br>\n",
    "This method prints information about a DataFrame including the index dtype and columns, non-null values and memory usage.\n",
    "https://pandas.pydata.org/docs/reference/api/pandas.DataFrame.info.html"
   ]
  },
  {
   "cell_type": "code",
   "execution_count": null,
   "metadata": {
    "id": "5FKuVzPZjpH5"
   },
   "outputs": [],
   "source": [
    "df.info()"
   ]
  },
  {
   "cell_type": "markdown",
   "metadata": {
    "id": "LHrpzhd5kORY"
   },
   "source": [
    "<b>pandas.DataFrame.sample</b><br>\n",
    "Return a random sample of items from an axis of object.<br>\n",
    "axis=0: are always the rows<br>\n",
    "axis=1: are always the colums.<br>\n",
    "https://pandas.pydata.org/docs/reference/api/pandas.DataFrame.sample.html"
   ]
  },
  {
   "cell_type": "code",
   "execution_count": null,
   "metadata": {
    "id": "_97IOx_qjroS"
   },
   "outputs": [],
   "source": [
    "df.sample(3, axis=0)  # show three randomly selected rows with all cols"
   ]
  },
  {
   "cell_type": "markdown",
   "metadata": {
    "id": "TnX-y8wukRxY"
   },
   "source": [
    "<b>pandas.DataFrame.shape</b><br>\n",
    "Return a tuple representing the dimensionality of the DataFrame.<br>\n",
    "https://pandas.pydata.org/docs/reference/api/pandas.DataFrame.shape.html"
   ]
  },
  {
   "cell_type": "code",
   "execution_count": null,
   "metadata": {
    "id": "sIzoRrfoju7e"
   },
   "outputs": [],
   "source": [
    "df.shape"
   ]
  },
  {
   "cell_type": "markdown",
   "metadata": {
    "id": "p3OzBqjDOVWd"
   },
   "source": [
    "# 4&nbsp;First Data Preparation for Analysis\n"
   ]
  },
  {
   "cell_type": "markdown",
   "metadata": {
    "id": "9QEwcwRvyXoN"
   },
   "source": [
    "## 4.1&nbsp;Remove unwanted columns"
   ]
  },
  {
   "cell_type": "markdown",
   "metadata": {
    "id": "raMyTvEBOaA7"
   },
   "source": [
    "<b>pandas.DataFrame.drop</b><br>\n",
    "Remove rows or columns by specifying label names and corresponding axis, or by directly specifying index or column names.<br>\n",
    "https://pandas.pydata.org/docs/reference/api/pandas.DataFrame.drop.html"
   ]
  },
  {
   "cell_type": "markdown",
   "metadata": {
    "id": "VRhze88VOfIM"
   },
   "source": [
    "Columns that are not needed can be removed."
   ]
  },
  {
   "cell_type": "code",
   "execution_count": null,
   "metadata": {
    "id": "BoypSLSrOjFL"
   },
   "outputs": [],
   "source": [
    "\"\"\"\n",
    "df = df.drop('name_of_column_to_be_dropped', axis = 1)          # axis=1:  means columns (axis=0 are rows)\n",
    "\"\"\""
   ]
  },
  {
   "cell_type": "markdown",
   "metadata": {
    "id": "j3UffLFeOotV"
   },
   "source": [
    "## 4.2&nbsp;Rename column names"
   ]
  },
  {
   "cell_type": "markdown",
   "metadata": {
    "id": "DM10_QgiOq0j"
   },
   "source": [
    "<b>pandas.DataFrame.columns</b><br>\n",
    "The column labels of the DataFrame.<br>\n",
    "https://pandas.pydata.org/docs/reference/api/pandas.DataFrame.columns.html"
   ]
  },
  {
   "cell_type": "markdown",
   "metadata": {
    "id": "rgbc1ondOxSl"
   },
   "source": [
    "If the column names are very long or include white spaces,<br>\n",
    "it makes sense to rename them.<br>\n",
    "We save the long names for the possible later use."
   ]
  },
  {
   "cell_type": "markdown",
   "metadata": {
    "id": "Nlunp5zqLbrp"
   },
   "source": [
    "I prefer column names with lower case letters:"
   ]
  },
  {
   "cell_type": "code",
   "execution_count": null,
   "metadata": {
    "id": "m4mDLWaTOvH_"
   },
   "outputs": [],
   "source": [
    "df.columns = df.columns.str.lower()\n",
    "df.columns"
   ]
  },
  {
   "cell_type": "markdown",
   "metadata": {
    "id": "LNiIizxP09jn"
   },
   "source": [
    "In case you'd like to rename columns:"
   ]
  },
  {
   "cell_type": "code",
   "execution_count": null,
   "metadata": {
    "id": "9X2_6SUL1CF1"
   },
   "outputs": [],
   "source": [
    "\"\"\"\n",
    "oldname = 'screenresolution'\n",
    "newname = 'resolution'\n",
    "\n",
    "df = df.rename(columns={oldname: newname})\n",
    "df.columns\n",
    "\"\"\""
   ]
  },
  {
   "cell_type": "markdown",
   "metadata": {
    "id": "4IYg9o8ZPGgf"
   },
   "source": [
    "## 4.3&nbsp;Check and handle Null values"
   ]
  },
  {
   "cell_type": "markdown",
   "metadata": {
    "id": "H4kv-QTdPIZW"
   },
   "source": [
    "<b>pandas.isnull</b><br>\n",
    "Detect missing values for an array-like object.<br>\n",
    "https://pandas.pydata.org/docs/reference/api/pandas.isnull.html"
   ]
  },
  {
   "cell_type": "code",
   "execution_count": null,
   "metadata": {
    "id": "icPy9EcIPO5F"
   },
   "outputs": [],
   "source": [
    "df.info()"
   ]
  },
  {
   "cell_type": "markdown",
   "metadata": {
    "id": "Yt-8VZSbPIkU"
   },
   "source": [
    "Remark:<br>\n",
    "<b>In Python you can calculate with boolean values.<br>\n",
    "\"False\" corresponds to the value 0, \"True\" corresponds to the value 1.</b>\n"
   ]
  },
  {
   "cell_type": "markdown",
   "metadata": {
    "id": "Fk8GBo4iPIoz"
   },
   "source": [
    "<b>pandas.DataFrame.dropna</b><br>\n",
    "Remove missing values.<br>\n",
    "https://pandas.pydata.org/docs/reference/api/pandas.DataFrame.dropna.html"
   ]
  },
  {
   "cell_type": "markdown",
   "metadata": {
    "id": "sVk9WYHXPgAw"
   },
   "source": [
    "<b>Delete every row, that has 'any' Null value in it:</b>"
   ]
  },
  {
   "cell_type": "code",
   "execution_count": null,
   "metadata": {
    "id": "YO4V2xkvPCtm"
   },
   "outputs": [],
   "source": [
    "\"\"\"\n",
    "df = df.dropna(how='any', axis=0)\n",
    "df.info()                              # always check what you have done!\n",
    "\"\"\""
   ]
  },
  {
   "cell_type": "markdown",
   "metadata": {
    "id": "9vL3iZlZPm95"
   },
   "source": [
    "## 4.4&nbsp;Check and change data types"
   ]
  },
  {
   "cell_type": "markdown",
   "metadata": {
    "id": "JQSvwIn6PnBR"
   },
   "source": [
    "<b>A change of the data type is mandatory if a categorical variable has been coded as a number!<br>\n",
    "In this case, this means that you inform the dataframe that it is a categorical variable."
   ]
  },
  {
   "cell_type": "code",
   "execution_count": null,
   "metadata": {
    "id": "xKMErFLQPuLd"
   },
   "outputs": [],
   "source": [
    "df.info()"
   ]
  },
  {
   "cell_type": "markdown",
   "metadata": {
    "id": "6HPgAXZsPnEs"
   },
   "source": [
    "We can see that the data types like 'float', 'integer' and 'object'.<br>\n",
    "'object' is for text or mixed text and numeric values."
   ]
  },
  {
   "cell_type": "markdown",
   "metadata": {
    "id": "8mmripguP1dO"
   },
   "source": [
    "<b>pandas.DataFrame.astype</b><br>\n",
    "Cast a pandas object to a specified dtype dtype.<br>\n",
    "https://pandas.pydata.org/docs/reference/api/pandas.DataFrame.astype.html"
   ]
  },
  {
   "cell_type": "markdown",
   "metadata": {
    "id": "ldPI6OocP_38"
   },
   "source": [
    "Remark: 'object' and 'categorial' are very similar.<br>\n",
    "When range of possible values is fixed and finite, categorial hat advantages resp. speed and memory.<br>\n",
    "It is also possible to order categories (ordinal data).\n"
   ]
  },
  {
   "cell_type": "markdown",
   "metadata": {
    "id": "RX_8-jIKP48y"
   },
   "source": [
    "<u><b>Cast one single column to another datatype:</b></u><br>\n",
    "If several columns are to be cast, the cell must be copied and the column name adjusted (for reproducibility).\n"
   ]
  },
  {
   "cell_type": "code",
   "execution_count": null,
   "metadata": {
    "id": "cI6x8OYrPmG4"
   },
   "outputs": [],
   "source": [
    "\"\"\"\n",
    "col = 'ocean'                        # change column name\n",
    "df[col] = df[col].astype('category') # change type, e.g.: 'category', 'int', 'float', 'str'\n",
    "df.info()\n",
    "\"\"\""
   ]
  },
  {
   "cell_type": "markdown",
   "metadata": {
    "id": "HL_MzGppkIpv"
   },
   "source": [
    "<u><b>Cast all columns to another datatype:</b></u>"
   ]
  },
  {
   "cell_type": "code",
   "execution_count": null,
   "metadata": {
    "id": "oArxUZt7kUAV"
   },
   "outputs": [],
   "source": [
    "\"\"\"\n",
    "df = df.astype('category')    # change type, e.g.: 'category', 'int', 'float', 'str'\n",
    "df.info()\n",
    "\"\"\""
   ]
  },
  {
   "cell_type": "markdown",
   "metadata": {
    "id": "07YYwMZhMPAz"
   },
   "source": [
    "## 4.5 Remove special characters"
   ]
  },
  {
   "cell_type": "markdown",
   "metadata": {
    "id": "IyaGNLjmMeeT"
   },
   "source": [
    "When encoding categorical variables, values become column names.<br>\n",
    "It may therefore be necessary to remove the following characters from the entire DataFrame."
   ]
  },
  {
   "cell_type": "code",
   "execution_count": null,
   "metadata": {
    "id": "sdUzl4qUMYaZ"
   },
   "outputs": [],
   "source": [
    "\"\"\"\n",
    "df = df.replace(' ','', regex=True)\n",
    "df = df.replace('-','', regex=True)\n",
    "df = df.replace('\\+','', regex=True)\n",
    "df = df.replace('/','', regex=True)\n",
    "df = df.replace('.','', regex=False)\n",
    "df = df.replace('<','', regex=True)\n",
    "df = df.replace('>','', regex=True)\n",
    "df = df.replace('\\[','', regex=True)\n",
    "df = df.replace(']','', regex=True)\n",
    "df = df.replace('\\(','', regex=True)\n",
    "df = df.replace('\\)','', regex=True)\n",
    "\"\"\""
   ]
  },
  {
   "cell_type": "markdown",
   "metadata": {
    "id": "WnIm85BoM4mD"
   },
   "source": [
    "##&nbsp;4.6 Replace values"
   ]
  },
  {
   "cell_type": "markdown",
   "metadata": {
    "id": "DqgqDwQZNCAy"
   },
   "source": [
    "Sometimes it is necessary to replace certain values with others in the entire dataframe."
   ]
  },
  {
   "cell_type": "code",
   "execution_count": null,
   "metadata": {
    "id": "Jla6Af_kM35a"
   },
   "outputs": [],
   "source": [
    "\"\"\"\n",
    "oldvalue = 'old'     # change string\n",
    "newvalue = 'new'     # change string\n",
    "df = df.replace(oldvalue,newvalue , regex=True)\n",
    "\"\"\""
   ]
  },
  {
   "cell_type": "markdown",
   "metadata": {
    "id": "qjd96yh1NMWB"
   },
   "source": [
    "##&nbsp;4.7 Replace rare values"
   ]
  },
  {
   "cell_type": "markdown",
   "metadata": {
    "id": "OEbKca2zNstz"
   },
   "source": [
    "Sometimes it is necessary to combine rarely occurring values in categorical variables into a group ('rare')."
   ]
  },
  {
   "cell_type": "code",
   "execution_count": null,
   "metadata": {
    "id": "4Tf6pLqANLvq"
   },
   "outputs": [],
   "source": [
    "\"\"\"\n",
    "rare = 10\n",
    "cols_cat = df.select_dtypes(include=['object','string','category']).columns\n",
    "for col in cols_cat:\n",
    "  ToReplace = df[col].value_counts()[df[col].value_counts() < rare].index\n",
    "  for replace in ToReplace:\n",
    "    df = df.replace(replace,'rare', regex=True)\n",
    "\"\"\""
   ]
  },
  {
   "cell_type": "code",
   "execution_count": null,
   "metadata": {
    "id": "Lqukti7vNZnb"
   },
   "outputs": [],
   "source": [
    "\"\"\"\n",
    "col = ['company']                   # change column name\n",
    "print(df[col].value_counts())\n",
    "\"\"\""
   ]
  },
  {
   "cell_type": "markdown",
   "metadata": {
    "id": "0RMRzcyhQOh8"
   },
   "source": [
    "# 5.&nbsp;Data Understanding"
   ]
  },
  {
   "cell_type": "code",
   "execution_count": null,
   "metadata": {
    "id": "b39EKqw5lx1m"
   },
   "outputs": [],
   "source": [
    "\"\"\"\n",
    "df.select_dtypes(include=['object', 'string', 'category']).describe()\n",
    "\"\"\""
   ]
  },
  {
   "cell_type": "code",
   "execution_count": null,
   "metadata": {
    "id": "BL5uW8pX_5Fl"
   },
   "outputs": [],
   "source": [
    "df.info()"
   ]
  },
  {
   "cell_type": "markdown",
   "metadata": {
    "id": "W_EHGGYgOPKr"
   },
   "source": [
    "## 5.1 Univariate - statistical analysis"
   ]
  },
  {
   "cell_type": "markdown",
   "metadata": {
    "id": "yuHyLUD0iVxO"
   },
   "source": [
    "Check, if a column has identical values (standard deviation == 0)."
   ]
  },
  {
   "cell_type": "code",
   "execution_count": null,
   "metadata": {
    "collapsed": true,
    "id": "3uP9yo3Hi0YU"
   },
   "outputs": [],
   "source": [
    "df.nunique()  # print the number of unique values per column"
   ]
  },
  {
   "cell_type": "markdown",
   "metadata": {
    "id": "hEwfZwbYOVqz"
   },
   "source": [
    "<b><u>numerical columns<u></b>"
   ]
  },
  {
   "cell_type": "markdown",
   "metadata": {
    "id": "EyhmASK4OZA9"
   },
   "source": [
    "<b>pandas.DataFrame.describe</b><br>\n",
    "Generate descriptive statistics.<br>\n",
    "https://pandas.pydata.org/docs/reference/api/pandas.DataFrame.describe.html"
   ]
  },
  {
   "cell_type": "code",
   "execution_count": null,
   "metadata": {
    "collapsed": true,
    "id": "1cBswLOpOOR6"
   },
   "outputs": [],
   "source": [
    "\"\"\"\n",
    "df.select_dtypes(include=['bool', 'float', 'integer']).describe().round(1)    # select a suitable number of decimal place\n",
    "\"\"\""
   ]
  },
  {
   "cell_type": "markdown",
   "metadata": {
    "id": "JmtKC0srOiOr"
   },
   "source": [
    "<u><b>categorial columns</b></u>"
   ]
  },
  {
   "cell_type": "code",
   "execution_count": null,
   "metadata": {
    "id": "LBaTME0emW3-"
   },
   "outputs": [],
   "source": [
    "\"\"\"\n",
    "df.select_dtypes(include=['object', 'string', 'category']).describe()\n",
    "\"\"\""
   ]
  },
  {
   "cell_type": "markdown",
   "metadata": {
    "id": "0Owezh3yOoRE"
   },
   "source": [
    "<b>pandas.Series.value_counts</b><br>\n",
    "Return a Series containing counts of unique values.<br>\n",
    "https://pandas.pydata.org/docs/reference/api/pandas.Series.value_counts.html"
   ]
  },
  {
   "cell_type": "code",
   "execution_count": null,
   "metadata": {
    "id": "kDXCKffEOvCz"
   },
   "outputs": [],
   "source": [
    "\"\"\"\n",
    "col = ['company']                   # change column name\n",
    "print(df[col].value_counts())\n",
    "\"\"\""
   ]
  },
  {
   "cell_type": "markdown",
   "metadata": {
    "id": "g45jOWSJO2Ar"
   },
   "source": [
    "## 5.2 Univariate - visualizations"
   ]
  },
  {
   "cell_type": "markdown",
   "metadata": {
    "id": "ad5NMurkPAi0"
   },
   "source": [
    "<b><u>Count Plot</u></b>"
   ]
  },
  {
   "cell_type": "markdown",
   "metadata": {
    "id": "WmGtEm_3nstj"
   },
   "source": [
    "<b>Count Plot of all categorial variables</b>"
   ]
  },
  {
   "cell_type": "code",
   "execution_count": null,
   "metadata": {
    "id": "2sZ65TiynrbW"
   },
   "outputs": [],
   "source": [
    "\"\"\"\n",
    "width  = 4           # change width\n",
    "height = 1.5         # change height\n",
    "\n",
    "col_categorials = df.select_dtypes(include=['object','string','category']).columns  # column names of categorials\n",
    "for col in col_categorials:\n",
    "  plt.figure(figsize=(width, height))\n",
    "  ax = sns.countplot(y=df[col])\n",
    "  #plt.set(ax.get_xticklabels(), rotation=rotation)\n",
    "  plt.title('Count Plot: ' + col, fontsize = 10)\n",
    "  plt.xlabel('');\n",
    "\"\"\""
   ]
  },
  {
   "cell_type": "markdown",
   "metadata": {
    "id": "Z2ej2CH_r3Cl"
   },
   "source": [
    "<b>Count Plot of one categorial variable</b>"
   ]
  },
  {
   "cell_type": "code",
   "execution_count": null,
   "metadata": {
    "id": "17W8Lmh7PFhb"
   },
   "outputs": [],
   "source": [
    "\"\"\"\n",
    "width  = 4           # change width\n",
    "height = 2           # change height\n",
    "col    = 'has_ip'    # change column\n",
    "\n",
    "plt.figure(figsize=(width, height))\n",
    "ax = sns.countplot(x=df[col])\n",
    "#plt.set(ax.get_xticklabels(), rotation=rotation)\n",
    "plt.title('Count Plot: ' + col, fontsize = 10)\n",
    "plt.xlabel('');\n",
    "\"\"\""
   ]
  },
  {
   "cell_type": "markdown",
   "metadata": {
    "id": "gk0koUf4PAny"
   },
   "source": [
    "<u><b>Histogram of all numerical variables</b></u>"
   ]
  },
  {
   "cell_type": "code",
   "execution_count": null,
   "metadata": {
    "id": "xdjADKjLPOOH"
   },
   "outputs": [],
   "source": [
    "# calculation recommended number of bins in histogram\n",
    "if df.shape[0] <= 1000:\n",
    "    bins = round(math.sqrt(df.shape[0]) + 0.5)\n",
    "else:\n",
    "    bins = round(10 * math.log10(df.shape[0]) + 0.5)\n",
    "print(\"Calculated recommended number of bins: \", bins)"
   ]
  },
  {
   "cell_type": "code",
   "execution_count": null,
   "metadata": {
    "id": "71aBM7R_PSBh"
   },
   "outputs": [],
   "source": [
    "\"\"\"\n",
    "bins   = 20         # change number of bins\n",
    "width  = 12          # change width\n",
    "height = 10          # change height\n",
    "\n",
    "df.hist(bins=bins, figsize=(width, height));\n",
    "\"\"\""
   ]
  },
  {
   "cell_type": "markdown",
   "metadata": {
    "id": "cs1jP5HbPAtd"
   },
   "source": [
    "<u><b>Creation of boxplots for all numerical variables</b></u>"
   ]
  },
  {
   "cell_type": "code",
   "execution_count": null,
   "metadata": {
    "id": "1sFleyy8Pa6r"
   },
   "outputs": [],
   "source": [
    "\"\"\"\n",
    "kind   = 'box'\n",
    "title  = 'Bar Chart - number of occurences'  # change title\n",
    "width  = 30                                  # change width\n",
    "height = 5                                   # change height\n",
    "\n",
    "df.plot(kind=kind, subplots=True, sharey=False, title= title, figsize=(width, height));\n",
    "\"\"\""
   ]
  },
  {
   "cell_type": "markdown",
   "metadata": {
    "id": "o1E9mUdfPAxx"
   },
   "source": [
    "<u><b>Creation of boxplots of one numerical variable</b></u>"
   ]
  },
  {
   "cell_type": "code",
   "execution_count": null,
   "metadata": {
    "id": "7pAXFt7iPh50"
   },
   "outputs": [],
   "source": [
    "\"\"\"\n",
    "col    = 'inches'      # change column name\n",
    "kind   = 'box'\n",
    "title  = 'Boxplot'   # change title\n",
    "width  = 4           # change width\n",
    "height = 4           # change height\n",
    "\n",
    "df[col].plot(kind=kind, title = title, figsize=(width, height));\n",
    "\"\"\""
   ]
  },
  {
   "cell_type": "markdown",
   "metadata": {
    "id": "bMoDoA0WPA2Q"
   },
   "source": [
    "## 5.3&nbsp;Bivariate - correlation matrix"
   ]
  },
  {
   "cell_type": "markdown",
   "metadata": {
    "id": "7n36tHFFPA7S"
   },
   "source": [
    "<b>pandas.DataFrame.corr</b><br>\n",
    "Compute pairwise correlation of columns, excluding NA/null values.<br>\n",
    "https://pandas.pydata.org/docs/reference/api/pandas.DataFrame.corr.html"
   ]
  },
  {
   "cell_type": "code",
   "execution_count": null,
   "metadata": {
    "id": "mls7aU8NPwUl"
   },
   "outputs": [],
   "source": [
    "numeric_only = False  # change to: True or False\n",
    "\n",
    "df.corr(numeric_only=numeric_only).round(2)"
   ]
  },
  {
   "cell_type": "markdown",
   "metadata": {
    "id": "ZvUDnPiOPws-"
   },
   "source": [
    "<b>seaborn.heatmap</b><br>\n",
    "Plot rectangular data as a color-encoded matrix.<br>\n",
    "https://seaborn.pydata.org/generated/seaborn.heatmap.html"
   ]
  },
  {
   "cell_type": "code",
   "execution_count": null,
   "metadata": {
    "id": "0k53z6uSherU"
   },
   "outputs": [],
   "source": [
    "width = 10  # change width\n",
    "height = 10  # change height\n",
    "size_number = 5\n",
    "numeric_only = False  # change to: True or False\n",
    "title = \"Correlation heat map\"  # change title\n",
    "\n",
    "plt.figure(figsize=(width, height))\n",
    "plt.title(title)\n",
    "a = sns.heatmap(\n",
    "    df.corr(numeric_only=False),\n",
    "    square=True,\n",
    "    annot=True,\n",
    "    fmt=\".2f\",\n",
    "    linecolor=\"white\",\n",
    "    vmin=-1,\n",
    "    vmax=1,\n",
    "    center=0,\n",
    "    cmap=sns.diverging_palette(20, 220, n=200),\n",
    "    annot_kws={\"size\": size_number},\n",
    ")\n",
    "a.set_xticklabels(a.get_xticklabels(), rotation=90)\n",
    "a.set_yticklabels(a.get_yticklabels(), rotation=0);"
   ]
  },
  {
   "cell_type": "markdown",
   "metadata": {
    "id": "CfVwFji51OZa"
   },
   "source": [
    "## 5.4&nbsp;Bivariate - crosstable"
   ]
  },
  {
   "cell_type": "code",
   "execution_count": null,
   "metadata": {
    "id": "KC2alfZIuVWS"
   },
   "outputs": [],
   "source": [
    "\"\"\"\n",
    "col1 = 'traffic'        # change column name\n",
    "col2 = 'target'         # change column name\n",
    "\n",
    "pd.crosstab(df[col1], df[col2])\n",
    "\"\"\""
   ]
  },
  {
   "cell_type": "markdown",
   "metadata": {
    "id": "DUxEajHIP9nV"
   },
   "source": [
    "## 5.5&nbsp;Bivariate - visualization"
   ]
  },
  {
   "cell_type": "markdown",
   "metadata": {
    "id": "6pBJX8BuP9q7"
   },
   "source": [
    "<u><b>Pairplot: scatterplot of alle combinations of numerical features</b></u>"
   ]
  },
  {
   "cell_type": "markdown",
   "metadata": {
    "id": "aZz7r_PGP9ut"
   },
   "source": [
    "<b>seaborn.pairplot</b><br>\n",
    "Plot pairwise relationships in a dataset.<br>\n",
    "https://seaborn.pydata.org/generated/seaborn.pairplot.html"
   ]
  },
  {
   "cell_type": "code",
   "execution_count": null,
   "metadata": {
    "id": "utfCIdq7QJP8"
   },
   "outputs": [],
   "source": [
    "\"\"\"\n",
    "sns.pairplot(df);\n",
    "\"\"\""
   ]
  },
  {
   "cell_type": "markdown",
   "metadata": {
    "id": "I838rGrZP9x5"
   },
   "source": [
    "<u><b>Scatterplot of two numerical features</b></u>"
   ]
  },
  {
   "cell_type": "markdown",
   "metadata": {
    "id": "DUqEvGgHP91e"
   },
   "source": [
    "<b>pandas.DataFrame.plot</b><br>\n",
    "Make plots of Series or DataFrame.<br>\n",
    "https://pandas.pydata.org/docs/reference/api/pandas.DataFrame.plot.html"
   ]
  },
  {
   "cell_type": "code",
   "execution_count": null,
   "metadata": {
    "id": "LoT2c30XQWOL"
   },
   "outputs": [],
   "source": [
    "df.select_dtypes(include=[\"float\", \"int\"]).columns  # Show numerical features"
   ]
  },
  {
   "cell_type": "code",
   "execution_count": null,
   "metadata": {
    "id": "p4WEQyanQi30"
   },
   "outputs": [],
   "source": [
    "\"\"\"\n",
    "col_x  = 'col1'          # column for x-axis\n",
    "col_y  = 'col2'          # column for y-axis\n",
    "width  = 4               # change width\n",
    "height = 4               # change height\n",
    "title  = 'Scatterplot: ' + col_y + ' vs. ' + col_x\n",
    "alpha  = 0.1             # regulate the transparency of a graph plot using the alpha attribute.\n",
    "\n",
    "df.plot.scatter(title= title, x= col_x, y= col_y, alpha=alpha, figsize=(width, height));\n",
    "\"\"\""
   ]
  },
  {
   "cell_type": "markdown",
   "metadata": {
    "id": "j_ZQlxhYP98c"
   },
   "source": [
    "<u><b>Creation of \"side-by-side\" boxplots</b></u>"
   ]
  },
  {
   "cell_type": "code",
   "execution_count": null,
   "metadata": {
    "id": "weFt-GJlQvIs"
   },
   "outputs": [],
   "source": [
    "print(\"Numerical features:\")\n",
    "print(df.select_dtypes(include=[\"float\", \"int\"]).columns)\n",
    "print(\"Categorial features:\")\n",
    "print(df.select_dtypes(include=[\"object\", \"string\", \"category\"]).columns)"
   ]
  },
  {
   "cell_type": "code",
   "execution_count": null,
   "metadata": {
    "id": "pGtS-de8QzOU"
   },
   "outputs": [],
   "source": [
    "\"\"\"\n",
    "target   = 'price'                 # change column name\n",
    "width    = 8                       # change width\n",
    "height   = 4                       # change height\n",
    "rotation = 90                      # change orientation degree x-label\n",
    "\n",
    "col_categorial = df.select_dtypes(include=['object','string','category'])  # column names of categorials\n",
    "\n",
    "for col in col_categorial:\n",
    "  plt.figure(figsize=(width, height))\n",
    "  title  = 'Boxplots: ' + target + ' vs. ' + col\n",
    "  ax = sns.boxplot(x=df[col], y=df[target])\n",
    "  plt.setp(ax.get_xticklabels(), rotation=rotation)\n",
    "  plt.title(title, fontsize = 16 )\n",
    "  plt.xlabel('');\n",
    "\"\"\""
   ]
  },
  {
   "cell_type": "markdown",
   "metadata": {
    "id": "aKwqK4KCQwGz"
   },
   "source": [
    "## 5.6 Trivariate - visualisation"
   ]
  },
  {
   "cell_type": "markdown",
   "metadata": {
    "id": "BddINLYTQwNt"
   },
   "source": [
    "<u><b>Scatterplot of selected two features with color-information of third feature</b></u>"
   ]
  },
  {
   "cell_type": "code",
   "execution_count": null,
   "metadata": {
    "id": "dS24tMZVQ229"
   },
   "outputs": [],
   "source": [
    "\"\"\"\n",
    "col_x     = 'ram'         # change column name (for x axis)\n",
    "col_y     = 'weight'      # change column name (for y axis)\n",
    "var_color = 'price'       # change column name (different colors)\n",
    "alpha     =  0.2          # change parameter to see density of data points\n",
    "width  = 5                # change width\n",
    "height = 3                # change height\n",
    "\n",
    "df.plot(kind=\"scatter\", x=col_x, y=col_y, alpha=alpha,\n",
    "        c = var_color,  cmap=plt.get_cmap(\"jet\"), colorbar=True, figsize=(width, height));\n",
    "\"\"\""
   ]
  },
  {
   "cell_type": "markdown",
   "metadata": {
    "id": "3TOX0es0Z68k"
   },
   "source": [
    "# 6&nbsp;Data Preparation"
   ]
  },
  {
   "cell_type": "code",
   "execution_count": null,
   "metadata": {
    "id": "8wUhoHCeaBgW"
   },
   "outputs": [],
   "source": [
    "df.info()"
   ]
  },
  {
   "cell_type": "markdown",
   "metadata": {
    "id": "X1AbAAhsZ-rF"
   },
   "source": [
    "## 6.1&nbsp;Feature Engineering"
   ]
  },
  {
   "cell_type": "markdown",
   "metadata": {
    "id": "BalDgf3KaGIW"
   },
   "source": [
    "<b>The task is to generate features, that (probably) have a high correlation with the target.</b>"
   ]
  },
  {
   "cell_type": "code",
   "execution_count": null,
   "metadata": {
    "id": "5620W_cMaFG8"
   },
   "outputs": [],
   "source": [
    "\"\"\"\n",
    "df['weight2'] = df.weight**2          # change column names and formula\n",
    "\"\"\""
   ]
  },
  {
   "cell_type": "markdown",
   "metadata": {
    "id": "li9iFPdiaNAs"
   },
   "source": [
    "<b>The correlations of all features with the target are shown.</b>"
   ]
  },
  {
   "cell_type": "code",
   "execution_count": null,
   "metadata": {
    "id": "-WY6QhXRaK75"
   },
   "outputs": [],
   "source": [
    "\"\"\"\n",
    "target = 'price'                                  # change column\n",
    "numeric_only = True                               # choose True or False\n",
    "\n",
    "corr_matrix = df.corr(numeric_only = numeric_only)\n",
    "corr_matrix[target].sort_values(ascending=False)\n",
    "\"\"\""
   ]
  },
  {
   "cell_type": "markdown",
   "metadata": {
    "id": "HgKhBRFcaiba"
   },
   "source": [
    "## 6.2&nbsp;Scaling"
   ]
  },
  {
   "cell_type": "markdown",
   "metadata": {
    "id": "MUeYC6Z6ake0"
   },
   "source": [
    "In lineare regression: scaling is not mandantory.<br>\n",
    "Scaling may help here, that the parameters are more understandable."
   ]
  },
  {
   "cell_type": "markdown",
   "metadata": {
    "id": "WgerHXxxamx4"
   },
   "source": [
    "<b>Show min, median and max of every feature</b>."
   ]
  },
  {
   "cell_type": "code",
   "execution_count": null,
   "metadata": {
    "id": "VilYcj8capvI"
   },
   "outputs": [],
   "source": [
    "\"\"\"\n",
    "df.describe().loc[['min','50%','max'],:]\n",
    "\"\"\""
   ]
  },
  {
   "cell_type": "code",
   "execution_count": null,
   "metadata": {
    "id": "YzyEQODHauBd"
   },
   "outputs": [],
   "source": [
    "\"\"\"\n",
    "col = 'price'                  # replace column name\n",
    "df[col] = df[col] / 1000       # replace factor\n",
    "\"\"\""
   ]
  },
  {
   "cell_type": "markdown",
   "metadata": {
    "id": "KPYJWZioSFOi"
   },
   "source": [
    "## 6.3&nbsp;Delete data records"
   ]
  },
  {
   "cell_type": "code",
   "execution_count": null,
   "metadata": {
    "id": "kNqcYSXOSJgd"
   },
   "outputs": [],
   "source": [
    "\"\"\"\n",
    "col = 'age'                    # change column\n",
    "\n",
    "# keep only records that fulfill the following condition\n",
    "# to drop a row with value of age=999 use: df = df[ df[col] != 999]\n",
    "\n",
    "df = df[ df[col] >= 0 ]       # change condition\n",
    "\"\"\""
   ]
  },
  {
   "cell_type": "markdown",
   "metadata": {
    "id": "-jqvGXbhay4G"
   },
   "source": [
    "## 6.4&nbsp;Dummy Encoding"
   ]
  },
  {
   "cell_type": "markdown",
   "metadata": {
    "id": "yFZQmOKka1n1"
   },
   "source": [
    "<b>pandas.get_dummies</b><br>\n",
    "Convert categorical variable into dummy/indicator variables.<br>\n",
    "Each variable is converted in as many 0/1 variables as there are different values.<br>\n",
    "https://pandas.pydata.org/docs/reference/api/pandas.get_dummies.html"
   ]
  },
  {
   "cell_type": "code",
   "execution_count": null,
   "metadata": {
    "id": "Fchg4i0bbBfc"
   },
   "outputs": [],
   "source": [
    "df.info()"
   ]
  },
  {
   "cell_type": "code",
   "execution_count": null,
   "metadata": {
    "id": "p5nVPP0v8u1a"
   },
   "outputs": [],
   "source": [
    "# replace column names that are to be encoded\n",
    "col2enc = [\n",
    "    \"long_url\",\n",
    "    \"pref_suf\",\n",
    "    \"has_sub_domain\",\n",
    "    \"ssl_state\",\n",
    "    \"long_domain\",\n",
    "    \"url_of_anchor\",\n",
    "    \"tag_links\",\n",
    "    \"domain_age\",\n",
    "    \"traffic\",\n",
    "    \"page_rank\",\n",
    "    \"links_to_page\",\n",
    "]"
   ]
  },
  {
   "cell_type": "code",
   "execution_count": null,
   "metadata": {
    "id": "q7HwuL2xGyp_"
   },
   "outputs": [],
   "source": [
    "\"\"\"\n",
    "dummy_var = pd.get_dummies(df[col2enc], drop_first=True)                   # encoding\n",
    "df = pd.concat([df, dummy_var], axis=1)                                    # add encoded colum to df\n",
    "df = df.drop(col2enc, axis=1)                                              # remove original columns\n",
    "\"\"\""
   ]
  },
  {
   "cell_type": "code",
   "execution_count": null,
   "metadata": {
    "id": "SZQWfqbYa7x2"
   },
   "outputs": [],
   "source": [
    "df.info()"
   ]
  },
  {
   "cell_type": "markdown",
   "metadata": {
    "id": "-1dr9E2kbdHL"
   },
   "source": [
    "We now replay white spaces in the column names (if there are any)"
   ]
  },
  {
   "cell_type": "code",
   "execution_count": null,
   "metadata": {
    "id": "7azfcEyEbfT1"
   },
   "outputs": [],
   "source": [
    "df.columns = df.columns.str.replace(\" \", \"_\")\n",
    "df.columns"
   ]
  },
  {
   "cell_type": "markdown",
   "metadata": {
    "id": "8t4t9BIPpjSD"
   },
   "source": [
    "# 7&nbsp;Create X_train, X_test, y_train, y_test"
   ]
  },
  {
   "cell_type": "markdown",
   "metadata": {
    "id": "AG5FnaEWzdzE"
   },
   "source": [
    "y: Vector with target values<br>\n",
    "X: Matrix with feature values"
   ]
  },
  {
   "cell_type": "code",
   "execution_count": null,
   "metadata": {
    "id": "3xhXyd42pcfo"
   },
   "outputs": [],
   "source": [
    "target = \"target\"  # change column\n",
    "\n",
    "y = df[target].values  # y is the target-vecor\n",
    "X = df.drop(target, axis=1).values  # X is the feature matrix (target is dropped)"
   ]
  },
  {
   "cell_type": "markdown",
   "metadata": {
    "id": "9Bneb_9rglS2"
   },
   "source": [
    "<b>sklearn.model_selection.train_test_split</b><br>\n",
    "Split arrays or matrices into random train and test subsets.<br>\n",
    "https://scikit-learn.org/stable/modules/generated/sklearn.model_selection.train_test_split.html"
   ]
  },
  {
   "cell_type": "code",
   "execution_count": null,
   "metadata": {
    "id": "JngeespDgpLu"
   },
   "outputs": [],
   "source": [
    "seed = 12345\n",
    "X_train, X_test, y_train, y_test = train_test_split(\n",
    "    X, y, test_size=0.2, random_state=seed\n",
    ")"
   ]
  },
  {
   "cell_type": "code",
   "execution_count": null,
   "metadata": {
    "id": "6pE_SA1KgsbG"
   },
   "outputs": [],
   "source": [
    "print(\"Shape from X:\", X.shape)\n",
    "print(\"Shape from y:\", y.shape)\n",
    "print()\n",
    "print(\"Shape from X_train:\", X_train.shape)\n",
    "print(\"Shape from y_train:\", y_train.shape)\n",
    "print()\n",
    "print(\"Shape from X_test:\", X_test.shape)\n",
    "print(\"Shape from y_test:\", y_test.shape)"
   ]
  },
  {
   "cell_type": "markdown",
   "metadata": {
    "id": "9yUTaQgp1MJT"
   },
   "source": [
    "# 8&nbsp;Define positive and negative class"
   ]
  },
  {
   "cell_type": "markdown",
   "metadata": {
    "id": "V54z8Z031Xhq"
   },
   "source": [
    "<b>This defines which values of the target are assigned to the positive class and which value of the target is assigned to the negative class.</b>"
   ]
  },
  {
   "cell_type": "code",
   "execution_count": null,
   "metadata": {
    "id": "-CF3miS01YFA"
   },
   "outputs": [],
   "source": [
    "class_pos = 1  # change value\n",
    "class_neg = -1  # change value"
   ]
  },
  {
   "cell_type": "code",
   "execution_count": null,
   "metadata": {
    "id": "hU4Dmn7A63Hj"
   },
   "outputs": [],
   "source": [
    "# check whether the value in the positive class comes before the negative class in the alphabet.\n",
    "if class_pos < class_neg:\n",
    "    class_pos_before_neg = True\n",
    "else:\n",
    "    class_pos_before_neg = False"
   ]
  },
  {
   "cell_type": "markdown",
   "metadata": {
    "id": "4m8qQELlz2Hh"
   },
   "source": [
    "# 9&nbsp;Logistic Regression"
   ]
  },
  {
   "cell_type": "markdown",
   "metadata": {
    "id": "ImBTumnS0RPg"
   },
   "source": [
    "## 9.1&nbsp;Standard"
   ]
  },
  {
   "cell_type": "markdown",
   "metadata": {
    "id": "MvfEG7aDqQHu"
   },
   "source": [
    "<b>sklearn.linear_model.LogisticRegression</b><br>\n",
    "Logistic Regression (aka logit, MaxEnt) classifier.<br>\n",
    "https://scikit-learn.org/stable/modules/generated/sklearn.linear_model.LogisticRegression.html"
   ]
  },
  {
   "cell_type": "code",
   "execution_count": null,
   "metadata": {
    "id": "L5NWxcA1z1QO"
   },
   "outputs": [],
   "source": [
    "logreg = LogisticRegression().fit(X_train, y_train)\n",
    "\n",
    "y_pred_train = logreg.predict(X_train)\n",
    "y_pred_test = logreg.predict(X_test)"
   ]
  },
  {
   "cell_type": "code",
   "execution_count": null,
   "metadata": {
    "id": "aHmWGdsWH_2C"
   },
   "outputs": [],
   "source": [
    "print(y_pred_test[0:10])\n",
    "print(y_test[0:10])"
   ]
  },
  {
   "cell_type": "markdown",
   "metadata": {
    "id": "tlQWcsG02OGX"
   },
   "source": [
    "<b>sklearn.metrics.confusion_matrix</b><br>\n",
    "Compute confusion matrix to evaluate the accuracy of a classification.<br>\n",
    "https://scikit-learn.org/stable/modules/generated/sklearn.metrics.confusion_matrix.html"
   ]
  },
  {
   "cell_type": "code",
   "execution_count": null,
   "metadata": {
    "id": "Dq6V0SRP0Hyd"
   },
   "outputs": [],
   "source": [
    "labels = [class_pos, class_neg]  # class_pos and class_neg must be defined in section 8.\n",
    "\n",
    "cm_train = confusion_matrix(y_train, y_pred_train, labels=labels)\n",
    "cm_test = confusion_matrix(y_test, y_pred_test, labels=labels)\n",
    "\n",
    "print(\"TRAINING DATA:\")\n",
    "print(cm_train)\n",
    "print(\"Accuracy(train): \", \"{:.3f}\".format(accuracy_score(y_train, y_pred_train)), \"\\n\")\n",
    "print(\"TEST DATA:\")\n",
    "print(cm_test)\n",
    "print(\"Accuracy(test):  \", \"{:.3f}\".format(accuracy_score(y_test, y_pred_test)))"
   ]
  },
  {
   "cell_type": "code",
   "execution_count": null,
   "metadata": {
    "id": "Msn7zu114QcP"
   },
   "outputs": [],
   "source": [
    "print(sum(y_train == 1))\n",
    "print(sum(y_train == -1))"
   ]
  },
  {
   "cell_type": "markdown",
   "metadata": {
    "id": "x5YRm8M41C37"
   },
   "source": [
    "## 9.2&nbsp;Thresholding"
   ]
  },
  {
   "cell_type": "markdown",
   "metadata": {
    "id": "SFlGBDyJJJMP"
   },
   "source": [
    "<ul>\n",
    "<li>The threshold is a parameter of the classifier that is additionally defined.\n",
    "<li>Thresholding is possible with any classifier that calculates the probability of class membership.\n",
    "<li>By default: Threshold = 0.5\n",
    "<li>The classification can be decisively influenced with this parameter.\n",
    "</ul>"
   ]
  },
  {
   "cell_type": "markdown",
   "metadata": {
    "id": "QSDeRtsZ6kke"
   },
   "source": [
    "<b>predict_proba(X)</b><br>\n",
    "Output: Estimates of probabilities: how sure is the classifier?<br>\n",
    "The returned estimates for all classes <b>are ordered by the label of classes<b>."
   ]
  },
  {
   "cell_type": "code",
   "execution_count": null,
   "metadata": {
    "id": "zGH_tR_JsGrV"
   },
   "outputs": [],
   "source": [
    "y_pred_train_prob = logreg.predict_proba(X_train)\n",
    "y_pred_test_prob = logreg.predict_proba(X_test)\n",
    "\n",
    "print(\"Estimates of the probabilites of the first 5 items of training set:\")\n",
    "print(y_pred_train_prob[0:5], \"\\n\")\n",
    "print(\"Estimates of the classes of the first 5 items of training set:\")\n",
    "print(y_pred_train[0:5])"
   ]
  },
  {
   "cell_type": "markdown",
   "metadata": {
    "id": "AJezpaw_KYI2"
   },
   "source": [
    "We only keep probabilities for the positive outcome:"
   ]
  },
  {
   "cell_type": "code",
   "execution_count": null,
   "metadata": {
    "id": "2sB25b7i0fAt"
   },
   "outputs": [],
   "source": [
    "if class_pos_before_neg:\n",
    "    y_pred_train_prob_pos = y_pred_train_prob[:, 0]\n",
    "    y_pred_test_prob_pos = y_pred_test_prob[:, 0]\n",
    "else:\n",
    "    y_pred_train_prob_pos = y_pred_train_prob[:, 1]\n",
    "    y_pred_test_prob_pos = y_pred_test_prob[:, 1]"
   ]
  },
  {
   "cell_type": "code",
   "execution_count": null,
   "metadata": {
    "id": "8kfbHMRAE-jU"
   },
   "outputs": [],
   "source": [
    "y_pred_train_prob_pos[0:5]"
   ]
  },
  {
   "cell_type": "code",
   "execution_count": null,
   "metadata": {
    "id": "0nyCQlYJ1HAX"
   },
   "outputs": [],
   "source": [
    "thresholds = [0.5, 0.4, 0.3, 0.2, 0.1, 0.05]  # change thresholds\n",
    "\n",
    "tp_train, fn_train, fp_train, tn_train = [], [], [], []\n",
    "\n",
    "for threshold in (0.5, 0.4, 0.3, 0.2, 0.1, 0.05):\n",
    "    y_pred_train_class = np.where(\n",
    "        y_pred_train_prob_pos > threshold, class_pos, class_neg\n",
    "    )\n",
    "    tp, fn, fp, tn = confusion_matrix(\n",
    "        list(y_train), list(y_pred_train_class), labels=labels\n",
    "    ).ravel()\n",
    "    tp_train.append(tp)\n",
    "    fn_train.append(fn)\n",
    "    fp_train.append(fp)\n",
    "    tn_train.append(tn)\n",
    "    print(\"TRAINING, Threshold=\", threshold)\n",
    "    print(confusion_matrix(list(y_train), list(y_pred_train_class), labels=labels))\n",
    "    print(\"Accuracy(train):\", round(accuracy_score(y_train, y_pred_train_class), 3))\n",
    "    print(\"\")"
   ]
  },
  {
   "cell_type": "code",
   "execution_count": null,
   "metadata": {
    "id": "yoLlvV3Fn1S_"
   },
   "outputs": [],
   "source": [
    "tp_test, fn_test, fp_test, tn_test = [], [], [], []\n",
    "\n",
    "for threshold in thresholds:\n",
    "    y_pred_test_class = np.where(y_pred_test_prob_pos > threshold, class_pos, class_neg)\n",
    "    tp, fn, fp, tn = confusion_matrix(\n",
    "        list(y_test), list(y_pred_test_class), labels=labels\n",
    "    ).ravel()\n",
    "    tp_test.append(tp)\n",
    "    fn_test.append(fn)\n",
    "    fp_test.append(fp)\n",
    "    tn_test.append(tn)\n",
    "    print(\"TEST, Threshold=\", threshold)\n",
    "    print(confusion_matrix(list(y_test), list(y_pred_test_class), labels=labels))\n",
    "    print(\"Accuracy(test):\", round(accuracy_score(y_test, y_pred_test_class), 3))\n",
    "    print(\"\")"
   ]
  },
  {
   "cell_type": "code",
   "execution_count": null,
   "metadata": {
    "id": "nSFVUR_l1aME"
   },
   "outputs": [],
   "source": [
    "if class_pos_before_neg:\n",
    "    y_pred_train_proba = logreg.predict_proba(X_train)[::, 0]\n",
    "else:\n",
    "    y_pred_train_proba = logreg.predict_proba(X_train)[::, 1]\n",
    "\n",
    "fpr, tpr, ths = metrics.roc_curve(y_train, y_pred_train_proba, pos_label=class_pos)\n",
    "\n",
    "# create ROC curve\n",
    "plt.plot(fpr, tpr, label=\"ROC curve\")\n",
    "plt.ylabel(\"True Positive Rate\")\n",
    "plt.xlabel(\"False Positive Rate\")\n",
    "\n",
    "# create point linked with certain threshold\n",
    "colors = cm.rainbow(np.linspace(0, 1, len(thresholds)))\n",
    "for i, thres in enumerate(thresholds):\n",
    "    plt.scatter(\n",
    "        fp_train[i] / (fp_train[i] + tn_train[i]),\n",
    "        tp_train[i] / (tp_train[i] + fn_train[i]),\n",
    "        color=colors[i],\n",
    "        label=\"Threshold =\" + str(thres),\n",
    "    )\n",
    "\n",
    "# ROC line for 'random classifier'\n",
    "x_values = np.linspace(0, 1, 10)\n",
    "y_values = x_values\n",
    "plt.plot(x_values, y_values, label=\"random classifier\")\n",
    "\n",
    "plt.legend(loc=\"lower right\")\n",
    "plt.title(\"ROC: Logistic Regression (Train)\")\n",
    "plt.grid(visible=True);"
   ]
  },
  {
   "cell_type": "code",
   "execution_count": null,
   "metadata": {
    "id": "igVoiE-IoiPw"
   },
   "outputs": [],
   "source": [
    "if class_pos_before_neg:\n",
    "    y_pred_test_proba = logreg.predict_proba(X_test)[::, 0]\n",
    "else:\n",
    "    y_pred_test_proba = logreg.predict_proba(X_test)[::, 1]\n",
    "\n",
    "fpr, tpr, ths = metrics.roc_curve(y_test, y_pred_test_proba, pos_label=class_pos)\n",
    "\n",
    "# create ROC curve\n",
    "plt.plot(fpr, tpr, label=\"ROC curve\")\n",
    "plt.ylabel(\"True Positive Rate\")\n",
    "plt.xlabel(\"False Positive Rate\")\n",
    "\n",
    "# create point linked with certain threshold\n",
    "colors = cm.rainbow(np.linspace(0, 1, len(thresholds)))\n",
    "for i, thres in enumerate(thresholds):\n",
    "    plt.scatter(\n",
    "        fp_test[i] / (fp_test[i] + tn_test[i]),\n",
    "        tp_test[i] / (tp_test[i] + fn_test[i]),\n",
    "        color=colors[i],\n",
    "        label=\"Threshold =\" + str(thres),\n",
    "    )\n",
    "\n",
    "# ROC line for 'random classifier'\n",
    "x_values = np.linspace(0, 1, 10)\n",
    "y_values = x_values\n",
    "plt.plot(x_values, y_values, label=\"random classifier\")\n",
    "\n",
    "plt.legend(loc=\"lower right\")\n",
    "plt.title(\"ROC: Logistic Regression (Test)\")\n",
    "plt.grid(visible=True);"
   ]
  },
  {
   "cell_type": "markdown",
   "metadata": {
    "id": "KEFeKKtg28Bc"
   },
   "source": [
    "# 10&nbsp;Decision Tree"
   ]
  },
  {
   "cell_type": "markdown",
   "metadata": {
    "id": "DYdSblBNDaaO"
   },
   "source": [
    "<b>sklearn.tree.DecisionTreeClassifier</b><br>\n",
    "A decision tree classifier.<br>\n",
    "https://scikit-learn.org/stable/modules/generated/sklearn.tree.DecisionTreeClassifier.html"
   ]
  },
  {
   "cell_type": "markdown",
   "metadata": {
    "id": "oCCMCbmv-guP"
   },
   "source": [
    "A decision tree classifier is trained."
   ]
  },
  {
   "cell_type": "code",
   "execution_count": null,
   "metadata": {
    "id": "ByyR1vJO3BDn"
   },
   "outputs": [],
   "source": [
    "from sklearn.tree import DecisionTreeClassifier\n",
    "\n",
    "dtc = DecisionTreeClassifier().fit(X_train, y_train)"
   ]
  },
  {
   "cell_type": "markdown",
   "metadata": {
    "id": "8evnM4S7-rN7"
   },
   "source": [
    "The classifier is used for estimation."
   ]
  },
  {
   "cell_type": "code",
   "execution_count": null,
   "metadata": {
    "id": "qze15CQ1-2Uo"
   },
   "outputs": [],
   "source": [
    "y_train_pred = dtc.predict(X_train)\n",
    "y_test_pred = dtc.predict(X_test)"
   ]
  },
  {
   "cell_type": "code",
   "execution_count": null,
   "metadata": {
    "id": "uzuBXsXo_vZm"
   },
   "outputs": [],
   "source": [
    "feature_names = np.setdiff1d(df.columns, target)"
   ]
  },
  {
   "cell_type": "markdown",
   "metadata": {
    "id": "fFNLHrqQ_Xdo"
   },
   "source": [
    "Graphic representation of the tree."
   ]
  },
  {
   "cell_type": "code",
   "execution_count": null,
   "metadata": {
    "id": "mId189Fs3qoJ"
   },
   "outputs": [],
   "source": [
    "from sklearn import tree\n",
    "import graphviz\n",
    "\n",
    "dot_data = tree.export_graphviz(\n",
    "    dtc,\n",
    "    out_file=None,\n",
    "    feature_names=feature_names,\n",
    "    class_names=[str(class_pos), str(class_neg)],\n",
    "    filled=True,\n",
    "    rounded=True,\n",
    "    special_characters=True,\n",
    ")\n",
    "graph = graphviz.Source(dot_data)\n",
    "graph"
   ]
  },
  {
   "cell_type": "code",
   "execution_count": null,
   "metadata": {
    "id": "a0oDyotg4VHs"
   },
   "outputs": [],
   "source": [
    "# X_roc = X_train\n",
    "# y_roc = y_train\n",
    "X_roc = X_test\n",
    "y_roc = y_test\n",
    "\n",
    "# define metrics\n",
    "\n",
    "if class_pos_before_neg:\n",
    "    y_pred_proba = dtc.predict_proba(X_roc)[::, 0]\n",
    "else:\n",
    "    y_pred_proba = dtc.predict_proba(X_roc)[::, 1]\n",
    "\n",
    "fpr, tpr, ths = metrics.roc_curve(y_roc, y_pred_proba, pos_label=class_pos)\n",
    "# create ROC curve\n",
    "plt.plot(fpr, tpr, label=\"ROC Curve\")\n",
    "plt.ylabel(\"True Positive Rate\")\n",
    "plt.xlabel(\"False Positive Rate\")\n",
    "x_values = np.linspace(0, 1, 10)\n",
    "y_values = x_values\n",
    "plt.plot(x_values, y_values, label=\"random classifier\")\n",
    "plt.grid()\n",
    "plt.title(\"ROC: decision tree classifier\")\n",
    "plt.legend(loc=\"lower right\");"
   ]
  },
  {
   "cell_type": "code",
   "execution_count": null,
   "metadata": {
    "id": "09I7ysdt5KGx"
   },
   "outputs": [],
   "source": [
    "print(\"Training Data\")\n",
    "print(confusion_matrix(list(y_train), list(y_train_pred), labels=labels))\n",
    "print(\"Accuracy: \", round(accuracy_score(y_train, y_train_pred), 3))"
   ]
  },
  {
   "cell_type": "code",
   "execution_count": null,
   "metadata": {
    "id": "wW0m2GIH3G6e"
   },
   "outputs": [],
   "source": [
    "print(\"Test Data\")\n",
    "print(confusion_matrix(list(y_test), list(y_test_pred), labels=labels))\n",
    "print(\"Accuracy: \", round(accuracy_score(y_test, y_test_pred), 3))"
   ]
  },
  {
   "cell_type": "markdown",
   "metadata": {
    "id": "yyRP2hAh5unW"
   },
   "source": [
    "# 11&nbsp;Random Forest"
   ]
  },
  {
   "cell_type": "code",
   "execution_count": null,
   "metadata": {
    "id": "cG41Ar0qvfWC"
   },
   "outputs": [],
   "source": [
    "rfc = RandomForestClassifier().fit(X_train, y_train)\n",
    "y_pred_train = rfc.predict(X_train)\n",
    "y_pred_test = rfc.predict(X_test)"
   ]
  },
  {
   "cell_type": "code",
   "execution_count": null,
   "metadata": {
    "id": "DoRdK9T4m5nj"
   },
   "outputs": [],
   "source": [
    "print(\"Training Data\")\n",
    "print(confusion_matrix(list(y_train), list(y_pred_train), labels=labels))\n",
    "print(\"Accuracy Training: \", round(accuracy_score(y_train, y_train_pred), 3))"
   ]
  },
  {
   "cell_type": "code",
   "execution_count": null,
   "metadata": {
    "id": "zpcu0ivZZjX9"
   },
   "outputs": [],
   "source": [
    "print(\"Test Data\")\n",
    "print(confusion_matrix(list(y_test), list(y_pred_test), labels=labels))\n",
    "print(\"Accuracy Test: \", round(accuracy_score(y_test, y_test_pred), 3))"
   ]
  },
  {
   "cell_type": "markdown",
   "metadata": {
    "id": "CtLWCkRMcBVZ"
   },
   "source": [
    "# 12&nbsp;Cross validation"
   ]
  },
  {
   "cell_type": "markdown",
   "metadata": {
    "id": "o5yoLt2nWbgt"
   },
   "source": [
    "<b>RepeatedKFold:</b><br>\n",
    "Repeats K-Fold n times with different randomization in each repetition.<br>\n",
    "https://scikit-learn.org/dev/modules/generated/sklearn.model_selection.RepeatedKFold.html"
   ]
  },
  {
   "cell_type": "markdown",
   "metadata": {
    "id": "MQf9YpQkXXA8"
   },
   "source": [
    "<b>Definition of the cross validation:</b>"
   ]
  },
  {
   "cell_type": "code",
   "execution_count": null,
   "metadata": {
    "id": "EOYlwd-GWOzp"
   },
   "outputs": [],
   "source": [
    "n_splits = 5  # change number of splits\n",
    "n_repeats = 3  # change number of repeats\n",
    "random_state = 3  # change number of random_state\n",
    "\n",
    "cv = RepeatedKFold(\n",
    "    n_splits=n_splits, n_repeats=n_repeats, random_state=random_state\n",
    ")  # cross validation is defined"
   ]
  },
  {
   "cell_type": "code",
   "execution_count": null,
   "metadata": {
    "id": "BiEDocaHXP30"
   },
   "outputs": [],
   "source": [
    "model = LogisticRegression()  # choose model\n",
    "\n",
    "scores = cross_val_score(\n",
    "    model, X, y, scoring=\"accuracy\", cv=cv, n_jobs=-1\n",
    ")  # scores of crossvalidation are stored\n",
    "print(\"Accuracy\", type(model).__name__, \":\", \"\\n\", scores.round(3), \"\\n\")\n",
    "print(\n",
    "    \"Min/Mean/Max: {:.3f}\".format(np.min(scores)),\n",
    "    \"{:.3f}\".format(np.mean(scores)),\n",
    "    \"{:.3f}\".format(np.max(scores)),\n",
    ")"
   ]
  },
  {
   "cell_type": "code",
   "execution_count": null,
   "metadata": {
    "id": "u8uWNFUmj_VR"
   },
   "outputs": [],
   "source": [
    "model = DecisionTreeClassifier()  # choose model\n",
    "scores = cross_val_score(model, X, y, scoring=\"accuracy\", cv=cv, n_jobs=-1)\n",
    "print(\"Accuracy\", type(model).__name__, \":\", \"\\n\", scores.round(3), \"\\n\")\n",
    "print(\n",
    "    \"Min/Mean/Max: {:.3f}\".format(np.min(scores)),\n",
    "    \"{:.3f}\".format(np.mean(scores)),\n",
    "    \"{:.3f}\".format(np.max(scores)),\n",
    ")"
   ]
  },
  {
   "cell_type": "code",
   "execution_count": null,
   "metadata": {
    "id": "haAk1eifksR6"
   },
   "outputs": [],
   "source": [
    "model = RandomForestClassifier()  # choose model\n",
    "scores = cross_val_score(model, X, y, scoring=\"accuracy\", cv=cv, n_jobs=-1)\n",
    "print(\"Accuracy\", type(model).__name__, \":\", \"\\n\", scores.round(3), \"\\n\")\n",
    "print(\n",
    "    \"Min/Mean/Max: {:.3f}\".format(np.min(scores)),\n",
    "    \"{:.3f}\".format(np.mean(scores)),\n",
    "    \"{:.3f}\".format(np.max(scores)),\n",
    ")"
   ]
  },
  {
   "cell_type": "markdown",
   "metadata": {
    "id": "ay2SrO8wZOCm"
   },
   "source": [
    "#&nbsp;13 Create final model"
   ]
  },
  {
   "cell_type": "markdown",
   "metadata": {
    "id": "IJrjXvVpZemO"
   },
   "source": [
    "<b>Task: Create the best final Model for predicting classes of new URL items.</b>"
   ]
  },
  {
   "cell_type": "code",
   "execution_count": null,
   "metadata": {
    "id": "kMS7qFU_Zrfh"
   },
   "outputs": [],
   "source": []
  }
 ],
 "metadata": {
  "colab": {
   "collapsed_sections": [
    "4IYg9o8ZPGgf",
    "9vL3iZlZPm95",
    "X1AbAAhsZ-rF",
    "HgKhBRFcaiba",
    "ImBTumnS0RPg"
   ],
   "provenance": [],
   "toc_visible": true
  },
  "kernelspec": {
   "display_name": ".venv",
   "language": "python",
   "name": "python3"
  },
  "language_info": {
   "codemirror_mode": {
    "name": "ipython",
    "version": 3
   },
   "file_extension": ".py",
   "mimetype": "text/x-python",
   "name": "python",
   "nbconvert_exporter": "python",
   "pygments_lexer": "ipython3",
   "version": "3.12.1"
  },
  "toc": {
   "base_numbering": 1,
   "nav_menu": {},
   "number_sections": true,
   "sideBar": true,
   "skip_h1_title": false,
   "title_cell": "Table of Contents",
   "title_sidebar": "Contents",
   "toc_cell": false,
   "toc_position": {},
   "toc_section_display": true,
   "toc_window_display": false
  }
 },
 "nbformat": 4,
 "nbformat_minor": 0
}
