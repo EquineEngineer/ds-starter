{
 "cells": [
  {
   "cell_type": "code",
   "execution_count": 8,
   "metadata": {},
   "outputs": [],
   "source": [
    "from __future__ import annotations"
   ]
  },
  {
   "cell_type": "code",
   "execution_count": null,
   "metadata": {},
   "outputs": [
    {
     "name": "stderr",
     "output_type": "stream",
     "text": [
      "100%|██████████| 3/3 [00:00<00:00, 268.40it/s]"
     ]
    },
    {
     "name": "stdout",
     "output_type": "stream",
     "text": [
      "Weight Length3 Length2\n",
      "shape: (7,)\n",
      "Series: 'Species' [u32]\n",
      "[\n",
      "\t31\n",
      "\t11\n",
      "\t5\n",
      "\t10\n",
      "\t45\n",
      "\t15\n",
      "\t10\n",
      "]\n",
      "shape: (32, 7)\n",
      "┌─────────┬────────┬─────────┬─────────┬─────────┬─────────┬────────┐\n",
      "│ Species ┆ Weight ┆ Length1 ┆ Length2 ┆ Length3 ┆ Height  ┆ Width  │\n",
      "│ ---     ┆ ---    ┆ ---     ┆ ---     ┆ ---     ┆ ---     ┆ ---    │\n",
      "│ enum    ┆ f64    ┆ f64     ┆ f64     ┆ f64     ┆ f64     ┆ f64    │\n",
      "╞═════════╪════════╪═════════╪═════════╪═════════╪═════════╪════════╡\n",
      "│ Bream   ┆ 450.0  ┆ 27.6    ┆ 30.0    ┆ 35.1    ┆ 14.0049 ┆ 4.8438 │\n",
      "│ Bream   ┆ 600.0  ┆ 29.4    ┆ 32.0    ┆ 37.2    ┆ 15.438  ┆ 5.58   │\n",
      "│ Bream   ┆ 575.0  ┆ 31.3    ┆ 34.0    ┆ 39.5    ┆ 15.1285 ┆ 5.5695 │\n",
      "│ Bream   ┆ 950.0  ┆ 38.0    ┆ 41.0    ┆ 46.5    ┆ 17.6235 ┆ 6.3705 │\n",
      "│ Roach   ┆ 40.0   ┆ 12.9    ┆ 14.1    ┆ 16.2    ┆ 4.1472  ┆ 2.268  │\n",
      "│ …       ┆ …      ┆ …       ┆ …       ┆ …       ┆ …       ┆ …      │\n",
      "│ Pike    ┆ 567.0  ┆ 43.2    ┆ 46.0    ┆ 48.7    ┆ 7.792   ┆ 4.87   │\n",
      "│ Smelt   ┆ 7.5    ┆ 10.0    ┆ 10.5    ┆ 11.6    ┆ 1.972   ┆ 1.16   │\n",
      "│ Smelt   ┆ 7.0    ┆ 10.1    ┆ 10.6    ┆ 11.6    ┆ 1.7284  ┆ 1.1484 │\n",
      "│ Smelt   ┆ 9.7    ┆ 10.4    ┆ 11.0    ┆ 12.0    ┆ 2.196   ┆ 1.38   │\n",
      "│ Smelt   ┆ 9.8    ┆ 10.7    ┆ 11.2    ┆ 12.4    ┆ 2.0832  ┆ 1.2772 │\n",
      "└─────────┴────────┴─────────┴─────────┴─────────┴─────────┴────────┘\n"
     ]
    },
    {
     "name": "stderr",
     "output_type": "stream",
     "text": [
      "\n"
     ]
    }
   ],
   "source": [
    "import numpy as np\n",
    "import polars as pl\n",
    "from typing import overload, Literal\n",
    "import pandas as pd\n",
    "import mrmr\n",
    "\n",
    "\n",
    "# Monkey-patching for older version of Polars referenced in `mrmr`\n",
    "pl.pearson_corr = pl.corr  # type: ignore\n",
    "\n",
    "df = pl.scan_csv(\"fish.csv\").collect()\n",
    "\n",
    "df = df.with_columns(pl.col(\"Species\").cast(pl.Enum(df.get_column(\"Species\").unique())))\n",
    "\n",
    "df.get_column(\"Species\").value_counts().plot.bar(x=\"Species\", y=\"count\")\n",
    "\n",
    "df.get_column(\"Weight\").plot.hist()\n",
    "\n",
    "df.select(pl.selectors.numeric()).corr()\n",
    "\n",
    "df.describe()\n",
    "\n",
    "df.get_column(\"Weight\").plot.hist()\n",
    "\n",
    "\n",
    "@overload\n",
    "def mrmr_regression(\n",
    "    df: pl.DataFrame, target_column: str, k: int, return_scores: Literal[True]\n",
    ") -> tuple[list[str], pd.Series, pd.DataFrame]: ...\n",
    "\n",
    "\n",
    "@overload\n",
    "def mrmr_regression(\n",
    "    df: pl.DataFrame, target_column: str, k: int, return_scores: Literal[False]\n",
    ") -> list[str]: ...\n",
    "\n",
    "\n",
    "type MRMR = list[str] | tuple[list[str], pd.Series, pd.DataFrame]\n",
    "\n",
    "\n",
    "def mrmr_regression(\n",
    "    df: pl.DataFrame, target_column: str, k: int, return_scores: bool\n",
    ") -> MRMR:\n",
    "    return mrmr.polars.mrmr_regression(\n",
    "        df=df, target_column=target_column, K=k, return_scores=return_scores\n",
    "    )\n",
    "\n",
    "\n",
    "selected_features = mrmr_regression(\n",
    "    df=df, target_column=\"Width\", k=3, return_scores=False\n",
    ")\n",
    "\n",
    "first, second, third, *_ = selected_features\n",
    "\n",
    "print(first, second, third)\n",
    "\n",
    "\n",
    "def train_test_split_df(df: pl.DataFrame, seed: int = 0, test_size: float = 0.2):\n",
    "    return df.with_columns(\n",
    "        pl.int_range(pl.len(), dtype=pl.UInt32)\n",
    "        .shuffle(seed=seed)\n",
    "        .gt(pl.len() * test_size)\n",
    "        .alias(\"split\")\n",
    "    ).partition_by(\"split\", include_key=False)\n",
    "\n",
    "\n",
    "def train_test_split(\n",
    "    X: pl.DataFrame, y: pl.DataFrame, seed: int = 0, test_size: float = 0.2\n",
    "):\n",
    "    X_train, X_test = train_test_split_df(X, seed=seed, test_size=test_size)\n",
    "    y_train, y_test = train_test_split_df(y, seed=seed, test_size=test_size)\n",
    "    return X_train, X_test, y_train, y_test\n",
    "\n",
    "\n",
    "a, b = train_test_split_df(df=df, seed=243)\n",
    "\n",
    "print(a)\n",
    "print(b)"
   ]
  }
 ],
 "metadata": {
  "kernelspec": {
   "display_name": ".venv",
   "language": "python",
   "name": "python3"
  },
  "language_info": {
   "codemirror_mode": {
    "name": "ipython",
    "version": 3
   },
   "file_extension": ".py",
   "mimetype": "text/x-python",
   "name": "python",
   "nbconvert_exporter": "python",
   "pygments_lexer": "ipython3",
   "version": "3.12.1"
  }
 },
 "nbformat": 4,
 "nbformat_minor": 2
}
