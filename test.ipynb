{
 "cells": [
  {
   "cell_type": "code",
   "execution_count": 4,
   "metadata": {},
   "outputs": [],
   "source": [
    "from __future__ import annotations"
   ]
  },
  {
   "cell_type": "code",
   "execution_count": 17,
   "metadata": {},
   "outputs": [
    {
     "data": {
      "text/html": [
       "<div><style>\n",
       ".dataframe > thead > tr,\n",
       ".dataframe > tbody > tr {\n",
       "  text-align: right;\n",
       "  white-space: pre-wrap;\n",
       "}\n",
       "</style>\n",
       "<small>shape: (6, 6)</small><table border=\"1\" class=\"dataframe\"><thead><tr><th>Weight</th><th>Length1</th><th>Length2</th><th>Length3</th><th>Height</th><th>Width</th></tr><tr><td>f64</td><td>f64</td><td>f64</td><td>f64</td><td>f64</td><td>f64</td></tr></thead><tbody><tr><td>1.0</td><td>0.915712</td><td>0.918618</td><td>0.923044</td><td>0.724345</td><td>0.886507</td></tr><tr><td>0.915712</td><td>1.0</td><td>0.999517</td><td>0.992031</td><td>0.625378</td><td>0.86705</td></tr><tr><td>0.918618</td><td>0.999517</td><td>1.0</td><td>0.994103</td><td>0.640441</td><td>0.873547</td></tr><tr><td>0.923044</td><td>0.992031</td><td>0.994103</td><td>1.0</td><td>0.703409</td><td>0.87852</td></tr><tr><td>0.724345</td><td>0.625378</td><td>0.640441</td><td>0.703409</td><td>1.0</td><td>0.792881</td></tr><tr><td>0.886507</td><td>0.86705</td><td>0.873547</td><td>0.87852</td><td>0.792881</td><td>1.0</td></tr></tbody></table></div>"
      ],
      "text/plain": [
       "shape: (6, 6)\n",
       "┌──────────┬──────────┬──────────┬──────────┬──────────┬──────────┐\n",
       "│ Weight   ┆ Length1  ┆ Length2  ┆ Length3  ┆ Height   ┆ Width    │\n",
       "│ ---      ┆ ---      ┆ ---      ┆ ---      ┆ ---      ┆ ---      │\n",
       "│ f64      ┆ f64      ┆ f64      ┆ f64      ┆ f64      ┆ f64      │\n",
       "╞══════════╪══════════╪══════════╪══════════╪══════════╪══════════╡\n",
       "│ 1.0      ┆ 0.915712 ┆ 0.918618 ┆ 0.923044 ┆ 0.724345 ┆ 0.886507 │\n",
       "│ 0.915712 ┆ 1.0      ┆ 0.999517 ┆ 0.992031 ┆ 0.625378 ┆ 0.86705  │\n",
       "│ 0.918618 ┆ 0.999517 ┆ 1.0      ┆ 0.994103 ┆ 0.640441 ┆ 0.873547 │\n",
       "│ 0.923044 ┆ 0.992031 ┆ 0.994103 ┆ 1.0      ┆ 0.703409 ┆ 0.87852  │\n",
       "│ 0.724345 ┆ 0.625378 ┆ 0.640441 ┆ 0.703409 ┆ 1.0      ┆ 0.792881 │\n",
       "│ 0.886507 ┆ 0.86705  ┆ 0.873547 ┆ 0.87852  ┆ 0.792881 ┆ 1.0      │\n",
       "└──────────┴──────────┴──────────┴──────────┴──────────┴──────────┘"
      ]
     },
     "execution_count": 17,
     "metadata": {},
     "output_type": "execute_result"
    }
   ],
   "source": [
    "import numpy as np\n",
    "import polars as pl\n",
    "from polars import scan_csv, read_csv\n",
    "\n",
    "df = read_csv(\"fish.csv\").with_columns(\n",
    "    pl.col(\"Species\").cast(\n",
    "        pl.Enum((\"Bream\", \"Roach\", \"Whitefish\", \"Parkki\", \"Perch\", \"Pike\", \"Smelt\"))\n",
    "    )\n",
    ")\n",
    "\n",
    "df.head()\n",
    "\n",
    "df.get_column(\"Species\").value_counts().plot.bar(x=\"Species\", y=\"count\")\n",
    "\n",
    "df.get_column(\"Weight\").plot.hist()\n",
    "\n",
    "df.select(pl.selectors.numeric()).corr()"
   ]
  }
 ],
 "metadata": {
  "kernelspec": {
   "display_name": ".venv",
   "language": "python",
   "name": "python3"
  },
  "language_info": {
   "codemirror_mode": {
    "name": "ipython",
    "version": 3
   },
   "file_extension": ".py",
   "mimetype": "text/x-python",
   "name": "python",
   "nbconvert_exporter": "python",
   "pygments_lexer": "ipython3",
   "version": "3.12.3"
  }
 },
 "nbformat": 4,
 "nbformat_minor": 2
}
